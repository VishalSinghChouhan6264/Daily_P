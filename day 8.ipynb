{
 "cells": [
  {
   "cell_type": "code",
   "execution_count": 5,
   "id": "06d2f3b5",
   "metadata": {},
   "outputs": [
    {
     "name": "stdout",
     "output_type": "stream",
     "text": [
      "<class 'int'>\n",
      "12\n",
      "<class 'str'>\n"
     ]
    }
   ],
   "source": [
    "#Type conversion\n",
    "a=12\n",
    "print(type(a))\n",
    "b=str(a)\n",
    "print(b)\n",
    "print(type(b))"
   ]
  },
  {
   "cell_type": "code",
   "execution_count": 6,
   "id": "13fe8cbb",
   "metadata": {},
   "outputs": [
    {
     "name": "stdout",
     "output_type": "stream",
     "text": [
      "23\n",
      "python\n",
      "90.87\n"
     ]
    }
   ],
   "source": [
    "#varible is a container to storage any type of data \n",
    "a=23\n",
    "print(a)\n",
    "b=\"python\"\n",
    "print(b)\n",
    "c=90.87\n",
    "print(c)\n",
    "#there are three types of condition\n",
    "a_b=98\n",
    "print(a_b)\n",
    "12=345\n",
    "@=67"
   ]
  },
  {
   "cell_type": "code",
   "execution_count": null,
   "id": "08ce844b",
   "metadata": {},
   "outputs": [],
   "source": [
    "#keyword is a predefined word for ,if ,else,pass \n",
    "#data type\n",
    "int  \n",
    "float\n",
    "str\n",
    "complex\n",
    "list []\n",
    "set  {}\n",
    "tuple    ()\n",
    "dict   {key:value}"
   ]
  },
  {
   "cell_type": "code",
   "execution_count": 13,
   "id": "85968d46",
   "metadata": {},
   "outputs": [
    {
     "name": "stdout",
     "output_type": "stream",
     "text": [
      "{1: 'c', 2: 'b'}\n",
      "{1, 2, 3, 4, 5}\n",
      "[1, 2, 3, 4, 5, 4, 3.98, 'python']\n"
     ]
    }
   ],
   "source": [
    "d={1:'a',2:'b',1:'c'}\n",
    "print(d)\n",
    "s={1,2,3,4,5,4,3}\n",
    "print(s)\n",
    "l=[1,2,3,4,5,4,3.98,\"python\"]\n",
    "print(l)"
   ]
  },
  {
   "cell_type": "code",
   "execution_count": 18,
   "id": "ffbe4e6a",
   "metadata": {},
   "outputs": [
    {
     "name": "stdout",
     "output_type": "stream",
     "text": [
      "32\n",
      "4\n"
     ]
    }
   ],
   "source": [
    "#Assignment operator  +=,-=,*=,/=,//=,%,**=\n",
    "a=2\n",
    "b=5\n",
    "a**=b  # a=a**b\n",
    "print(a)\n",
    "a=14\n",
    "b=3\n",
    "a//=b\n",
    "print(a)"
   ]
  },
  {
   "cell_type": "code",
   "execution_count": 24,
   "id": "89cc3bff",
   "metadata": {},
   "outputs": [
    {
     "name": "stdout",
     "output_type": "stream",
     "text": [
      "True\n",
      "True\n",
      "False\n"
     ]
    }
   ],
   "source": [
    "#Membership Operator in , not in\n",
    "a=\"string\"\n",
    "print( \"t\" in a)\n",
    "print(\"o\" not in a)\n",
    "l=[\"a\",\"b\",\"c\"]\n",
    "print(\"b\" not in l)"
   ]
  },
  {
   "cell_type": "code",
   "execution_count": 29,
   "id": "1bb3daa2",
   "metadata": {},
   "outputs": [
    {
     "name": "stdout",
     "output_type": "stream",
     "text": [
      "1234\n",
      "1234\n",
      "True\n"
     ]
    }
   ],
   "source": [
    "#identity operator is  is not\n",
    "a=1234\n",
    "b=1234\n",
    "a=b\n",
    "print(a)\n",
    "print(b)\n",
    "print(a is b)"
   ]
  },
  {
   "cell_type": "code",
   "execution_count": 1,
   "id": "3476b2c5",
   "metadata": {},
   "outputs": [
    {
     "name": "stdout",
     "output_type": "stream",
     "text": [
      "7\n",
      "4\n",
      "3\n",
      "20\n",
      "-6\n"
     ]
    }
   ],
   "source": [
    "#bitwise operator |,&,<<,>>,~,^\n",
    "print(5|6)\n",
    "print(5&6)\n",
    "print(5^6)\n",
    "print(5<<2)\n",
    "print(~5)"
   ]
  },
  {
   "cell_type": "code",
   "execution_count": 7,
   "id": "09ba70b7",
   "metadata": {
    "scrolled": true
   },
   "outputs": [
    {
     "name": "stdout",
     "output_type": "stream",
     "text": [
      "enter the number34\n",
      "even number\n"
     ]
    }
   ],
   "source": [
    "#conditional statemnet\n",
    "# if\n",
    "# else\n",
    "n=int(input(\"enter the number\"))\n",
    "if n%2==0:\n",
    "    print(\"even number\")\n",
    "else:\n",
    "    print(\"odd number\")"
   ]
  },
  {
   "cell_type": "code",
   "execution_count": 12,
   "id": "5469c985",
   "metadata": {},
   "outputs": [
    {
     "name": "stdout",
     "output_type": "stream",
     "text": [
      "enter the value of num  23\n",
      "enter the value of num  45\n",
      "45 is greater then num1 \n"
     ]
    }
   ],
   "source": [
    "num1=int(input(\"enter the value of num  \"))\n",
    "num2=int(input(\"enter the value of num  \"))\n",
    "if num1>num2 and num1>num3:\n",
    "    print(num1,\"is greater then num2\")\n",
    "elif num2>num1:\n",
    "    print(num2,\"is greater then num1 \")\n",
    "elif"
   ]
  },
  {
   "cell_type": "code",
   "execution_count": null,
   "id": "98a441d0",
   "metadata": {},
   "outputs": [],
   "source": [
    "if condition:\n",
    "    if condition:\n",
    "        if condition:\n",
    "            print()\n",
    "        else:\n",
    "            print()\n",
    "    else:\n",
    "        print()\n",
    "else:\n",
    "    print()"
   ]
  },
  {
   "cell_type": "code",
   "execution_count": 15,
   "id": "fa7c9ac1",
   "metadata": {},
   "outputs": [
    {
     "name": "stdout",
     "output_type": "stream",
     "text": [
      "enter the number36\n",
      "it is divisible by three number 2,6,9\n"
     ]
    }
   ],
   "source": [
    "num=int(input(\"enter the number\"))\n",
    "if num%2==0:\n",
    "    if num%6==0:\n",
    "        if num%9==0:\n",
    "            print(\"it is divisible by three number 2,6,9\")\n",
    "        else:\n",
    "            print(\"it is divisible by 2,6\")\n",
    "    else:\n",
    "        print(\"it is divisible by 2\")\n",
    "else:\n",
    "    print(\"not divisible by 2\")"
   ]
  },
  {
   "cell_type": "code",
   "execution_count": 24,
   "id": "2103b17b",
   "metadata": {},
   "outputs": [
    {
     "name": "stdout",
     "output_type": "stream",
     "text": [
      "10\n",
      "8\n",
      "6\n",
      "4\n",
      "2\n"
     ]
    }
   ],
   "source": [
    "#for loop\n",
    "for i in range(10 ,1,-2):\n",
    "    print(i)\n",
    "\n"
   ]
  },
  {
   "cell_type": "code",
   "execution_count": 22,
   "id": "7074eb09",
   "metadata": {},
   "outputs": [
    {
     "name": "stdout",
     "output_type": "stream",
     "text": [
      "3\n",
      "4\n",
      "5\n",
      "6\n",
      "7\n",
      "8\n",
      "9\n",
      "10\n",
      "11\n",
      "12\n"
     ]
    }
   ],
   "source": [
    "for a in range(3,13):\n",
    "    print(a)"
   ]
  },
  {
   "cell_type": "code",
   "execution_count": 20,
   "id": "406da7b6",
   "metadata": {},
   "outputs": [
    {
     "name": "stdout",
     "output_type": "stream",
     "text": [
      "0\n",
      "1\n",
      "2\n",
      "3\n",
      "4\n",
      "5\n",
      "6\n",
      "7\n",
      "8\n",
      "9\n",
      "10\n",
      "11\n",
      "12\n",
      "13\n",
      "14\n",
      "15\n",
      "16\n",
      "17\n",
      "18\n",
      "19\n"
     ]
    }
   ],
   "source": [
    "for j in range(20):\n",
    "    print(j)"
   ]
  },
  {
   "cell_type": "code",
   "execution_count": null,
   "id": "9e25f03a",
   "metadata": {},
   "outputs": [],
   "source": [
    "n=int(input(\"enter the number\"))\n",
    "for i in range(1,n):\n",
    "    n*=i\n",
    "print(n)"
   ]
  },
  {
   "cell_type": "code",
   "execution_count": 1,
   "id": "8ed29caa",
   "metadata": {},
   "outputs": [
    {
     "name": "stdout",
     "output_type": "stream",
     "text": [
      "100\n",
      "99\n",
      "98\n",
      "97\n",
      "96\n",
      "95\n",
      "94\n",
      "93\n",
      "92\n",
      "91\n",
      "90\n",
      "89\n",
      "88\n",
      "87\n",
      "86\n",
      "85\n",
      "84\n",
      "83\n",
      "82\n",
      "81\n",
      "80\n",
      "79\n",
      "78\n",
      "77\n",
      "76\n",
      "75\n",
      "74\n",
      "73\n",
      "72\n",
      "71\n",
      "70\n",
      "69\n",
      "68\n",
      "67\n",
      "66\n",
      "65\n",
      "64\n",
      "63\n",
      "62\n",
      "61\n",
      "60\n",
      "59\n",
      "58\n",
      "57\n",
      "56\n",
      "55\n",
      "54\n",
      "53\n",
      "52\n",
      "51\n",
      "50\n",
      "49\n",
      "48\n",
      "47\n",
      "46\n",
      "45\n",
      "44\n",
      "43\n",
      "42\n",
      "41\n",
      "40\n",
      "39\n",
      "38\n",
      "37\n",
      "36\n",
      "35\n",
      "34\n",
      "33\n",
      "32\n",
      "31\n",
      "30\n",
      "29\n",
      "28\n",
      "27\n",
      "26\n",
      "25\n",
      "24\n",
      "23\n",
      "22\n",
      "21\n",
      "20\n",
      "19\n",
      "18\n",
      "17\n",
      "16\n",
      "15\n",
      "14\n",
      "13\n",
      "12\n",
      "11\n",
      "10\n",
      "9\n",
      "8\n",
      "7\n",
      "6\n",
      "5\n",
      "4\n",
      "3\n",
      "2\n",
      "1\n"
     ]
    }
   ],
   "source": [
    "i=100\n",
    "while(i>=1):\n",
    "    print(i)\n",
    "    i=i-1"
   ]
  },
  {
   "cell_type": "code",
   "execution_count": 12,
   "id": "6bcb799c",
   "metadata": {},
   "outputs": [
    {
     "name": "stdout",
     "output_type": "stream",
     "text": [
      "* * * * * \n",
      "* * * * * \n",
      "* * * * * \n",
      "* * * * * \n",
      "* * * * * \n"
     ]
    }
   ],
   "source": [
    "for i in range(5):\n",
    "    for j in range(5):\n",
    "        print(\"*\",end=\" \")\n",
    "    print()"
   ]
  },
  {
   "cell_type": "code",
   "execution_count": null,
   "id": "c6ef4d13",
   "metadata": {},
   "outputs": [],
   "source": [
    "******\n",
    "*****\n",
    "****\n",
    "***\n",
    "**\n",
    "*"
   ]
  },
  {
   "cell_type": "code",
   "execution_count": null,
   "id": "d2016c46",
   "metadata": {},
   "outputs": [],
   "source": [
    "*\n",
    "**\n",
    "***\n",
    "****\n",
    "*****\n",
    "****\n",
    "***\n",
    "**\n",
    "*"
   ]
  },
  {
   "cell_type": "code",
   "execution_count": null,
   "id": "fd221979",
   "metadata": {},
   "outputs": [],
   "source": [
    "55555\n",
    "44444\n",
    "33333\n",
    "22222\n",
    "11111"
   ]
  },
  {
   "cell_type": "code",
   "execution_count": null,
   "id": "78c80a2b",
   "metadata": {},
   "outputs": [],
   "source": [
    "12345\n",
    "1234\n",
    "123\n",
    "12\n",
    "1"
   ]
  },
  {
   "cell_type": "code",
   "execution_count": 9,
   "id": "62eaea2d",
   "metadata": {},
   "outputs": [
    {
     "name": "stdout",
     "output_type": "stream",
     "text": [
      "\n",
      "* \n",
      "* * \n",
      "* * * \n",
      "* * * * \n"
     ]
    }
   ],
   "source": [
    "#nested for loop\n",
    "for i in range(5):\n",
    "    for j in range(i):\n",
    "        print(\"*\",end=\" \")\n",
    "    print()"
   ]
  },
  {
   "cell_type": "code",
   "execution_count": 4,
   "id": "6191fcd2",
   "metadata": {},
   "outputs": [
    {
     "data": {
      "text/plain": [
       "44444"
      ]
     },
     "execution_count": 4,
     "metadata": {},
     "output_type": "execute_result"
    }
   ],
   "source": [
    "00000\n",
    "11111\n",
    "22222\n",
    "33333\n",
    "44444"
   ]
  },
  {
   "cell_type": "code",
   "execution_count": 1,
   "id": "e020363c",
   "metadata": {},
   "outputs": [
    {
     "name": "stdout",
     "output_type": "stream",
     "text": [
      "* * * * * \n",
      "* * * * \n",
      "* * * \n",
      "* * \n",
      "* \n"
     ]
    }
   ],
   "source": [
    "for i in range(5,0,-1):\n",
    "    for j in range(i):\n",
    "        print(\"*\",end=\" \")\n",
    "    print()"
   ]
  },
  {
   "cell_type": "code",
   "execution_count": 2,
   "id": "5f62cead",
   "metadata": {},
   "outputs": [
    {
     "name": "stdout",
     "output_type": "stream",
     "text": [
      "100\n",
      "99\n",
      "98\n",
      "97\n",
      "96\n",
      "95\n",
      "94\n",
      "93\n",
      "92\n",
      "91\n",
      "90\n",
      "89\n",
      "88\n",
      "87\n",
      "86\n",
      "85\n",
      "84\n",
      "83\n",
      "82\n",
      "81\n",
      "80\n",
      "79\n",
      "78\n",
      "77\n",
      "76\n",
      "75\n",
      "74\n",
      "73\n",
      "72\n",
      "71\n",
      "70\n",
      "69\n",
      "68\n",
      "67\n",
      "66\n",
      "65\n",
      "64\n",
      "63\n",
      "62\n",
      "61\n",
      "60\n",
      "59\n",
      "58\n",
      "57\n",
      "56\n",
      "55\n",
      "54\n",
      "53\n",
      "52\n",
      "51\n",
      "50\n",
      "49\n",
      "48\n",
      "47\n",
      "46\n",
      "45\n",
      "44\n",
      "43\n",
      "42\n",
      "41\n",
      "40\n",
      "39\n",
      "38\n",
      "37\n",
      "36\n",
      "35\n",
      "34\n",
      "33\n",
      "32\n",
      "31\n",
      "30\n",
      "29\n",
      "28\n",
      "27\n",
      "26\n",
      "25\n",
      "24\n",
      "23\n",
      "22\n",
      "21\n",
      "20\n",
      "19\n",
      "18\n",
      "17\n",
      "16\n",
      "15\n",
      "14\n",
      "13\n",
      "12\n",
      "11\n",
      "10\n",
      "9\n",
      "8\n",
      "7\n",
      "6\n",
      "5\n",
      "4\n",
      "3\n",
      "2\n",
      "1\n"
     ]
    }
   ],
   "source": [
    "for i in range(100,0,-1):\n",
    "    print(i)"
   ]
  },
  {
   "cell_type": "code",
   "execution_count": 3,
   "id": "d6a48e27",
   "metadata": {},
   "outputs": [
    {
     "name": "stdout",
     "output_type": "stream",
     "text": [
      "enter the number234235\n",
      "first number is= 2 last number is= 5\n",
      "sum of first and last number is= 7\n"
     ]
    }
   ],
   "source": [
    "n=int(input(\"enter the number\"))\n",
    "last=n%10\n",
    "while(n>0):\n",
    "    first=n%10\n",
    "    n//=10\n",
    "print(\"first number is=\",first,\"last number is=\",last)\n",
    "sum=last+first\n",
    "print(\"sum of first and last number is=\",sum)"
   ]
  },
  {
   "cell_type": "code",
   "execution_count": 6,
   "id": "034b92b2",
   "metadata": {},
   "outputs": [
    {
     "name": "stdout",
     "output_type": "stream",
     "text": [
      "to check whether a character is alphabet or not W\n",
      "alphabet\n"
     ]
    }
   ],
   "source": [
    "ch=input(\"to check whether a character is alphabet or not \")\n",
    "if ch>='A' and ch<='Z':\n",
    "    print(\"alphabet\")\n",
    "elif ch>='a'and ch<='z':\n",
    "    print(\"alphabet\")\n",
    "else:\n",
    "    print(\"not a character\")"
   ]
  },
  {
   "cell_type": "code",
   "execution_count": 8,
   "id": "99ad923c",
   "metadata": {},
   "outputs": [
    {
     "name": "stdout",
     "output_type": "stream",
     "text": [
      "to check vowel or consonanto\n",
      "it is a vowel\n"
     ]
    }
   ],
   "source": [
    "char=input(\"to check vowel or consonant\")\n",
    "if char=='a' or char=='e' or char=='i' or char=='o' or char=='u':\n",
    "    print(\"it is a vowel\")\n",
    "else:\n",
    "    print(\"consonant\")"
   ]
  },
  {
   "cell_type": "code",
   "execution_count": 10,
   "id": "156b37bf",
   "metadata": {},
   "outputs": [
    {
     "name": "stdout",
     "output_type": "stream",
     "text": [
      "enter the weeknumber5\n",
      "thursday\n"
     ]
    }
   ],
   "source": [
    "weekday=int(input(\"enter the weeknumber\"))\n",
    "if weekday==1:\n",
    "    print(\"sunday\")\n",
    "elif weekday==2:\n",
    "    print(\"monday\")\n",
    "elif weekday==3:\n",
    "    print(\"tuesday\")\n",
    "elif weekday==4:\n",
    "    print(\"wednesday\")\n",
    "elif weekday==5:\n",
    "    print(\"thursday\")\n",
    "elif weekday==6:\n",
    "    print(\"friday\")\n",
    "elif weekday==7:\n",
    "    print(\"saturday\")\n",
    "else:\n",
    "    print(\"correct the week number\")"
   ]
  },
  {
   "cell_type": "code",
   "execution_count": 13,
   "id": "10d8df3d",
   "metadata": {},
   "outputs": [
    {
     "name": "stdout",
     "output_type": "stream",
     "text": [
      "enter the number 5\n",
      "5 * 1 = 5\n",
      "5 * 2 = 10\n",
      "5 * 3 = 15\n",
      "5 * 4 = 20\n",
      "5 * 5 = 25\n",
      "5 * 6 = 30\n",
      "5 * 7 = 35\n",
      "5 * 8 = 40\n",
      "5 * 9 = 45\n",
      "5 * 10 = 50\n"
     ]
    }
   ],
   "source": [
    "t=int(input(\"enter the number \"))\n",
    "for i in range(1,11):\n",
    "    print(t,\"*\",i,\"=\",i*t)"
   ]
  },
  {
   "cell_type": "code",
   "execution_count": 19,
   "id": "de3af0ad",
   "metadata": {},
   "outputs": [
    {
     "name": "stdout",
     "output_type": "stream",
     "text": [
      "a\n",
      "b\n",
      "c\n",
      "d\n",
      "e\n",
      "f\n",
      "g\n",
      "h\n",
      "i\n",
      "j\n",
      "k\n",
      "l\n",
      "m\n",
      "n\n",
      "o\n",
      "p\n",
      "q\n",
      "r\n",
      "s\n",
      "t\n",
      "u\n",
      "v\n",
      "w\n",
      "x\n",
      "y\n",
      "z\n"
     ]
    }
   ],
   "source": [
    "for indore in range(97,123):\n",
    "    print(chr(indore))"
   ]
  },
  {
   "cell_type": "code",
   "execution_count": 6,
   "id": "b511bee2",
   "metadata": {},
   "outputs": [
    {
     "name": "stdout",
     "output_type": "stream",
     "text": [
      "entre the number100\n",
      "4950\n"
     ]
    }
   ],
   "source": [
    "num=int(input(\"entre the number\"))\n",
    "s=0\n",
    "for a in range(num):\n",
    "    s+=a\n",
    "print(s)"
   ]
  },
  {
   "cell_type": "code",
   "execution_count": 2,
   "id": "254d0a34",
   "metadata": {},
   "outputs": [
    {
     "name": "stdout",
     "output_type": "stream",
     "text": [
      "0\n",
      "2\n",
      "4\n",
      "6\n",
      "8\n",
      "10\n"
     ]
    }
   ],
   "source": [
    "#while loop\n",
    "i=0\n",
    "while(i<=10):\n",
    "    if i%2==0:\n",
    "        print(i)\n",
    "    i+=1"
   ]
  },
  {
   "cell_type": "code",
   "execution_count": 13,
   "id": "1d9823c0",
   "metadata": {},
   "outputs": [
    {
     "name": "stdout",
     "output_type": "stream",
     "text": [
      "enter the number=5\n",
      "120\n"
     ]
    }
   ],
   "source": [
    "num=int(input(\"enter the number=\"))\n",
    "i=1\n",
    "f=1\n",
    "while(i<=num):\n",
    "    f=f*i\n",
    "    i+=1\n",
    "print(f)"
   ]
  },
  {
   "cell_type": "code",
   "execution_count": 20,
   "id": "058314e6",
   "metadata": {},
   "outputs": [
    {
     "name": "stdout",
     "output_type": "stream",
     "text": [
      "enter the number=5\n",
      "120\n"
     ]
    }
   ],
   "source": [
    "num=int(input(\"enter the number=\"))\n",
    "for i in range(1,num):\n",
    "    num*=i  #num=num*i\n",
    "print(num)"
   ]
  },
  {
   "cell_type": "code",
   "execution_count": null,
   "id": "d4edf1cd",
   "metadata": {},
   "outputs": [],
   "source": [
    "number=int(input(\"Enter any Number\"))\n",
    "print(\"Digit\\tFrequency\")\n",
    "for i in range(0,10):\n",
    "    count=0;\n",
    "    temp=number;\n",
    "    while temp>0:\n",
    "        digit=temp%10\n",
    "        if digit==i:\n",
    "            count=count+1\n",
    "        temp=temp//10;\n",
    "    if count>0:\n",
    "        print(i,\"\\t\",count)"
   ]
  },
  {
   "cell_type": "code",
   "execution_count": 10,
   "id": "3010de12",
   "metadata": {},
   "outputs": [
    {
     "name": "stdout",
     "output_type": "stream",
     "text": [
      "0\n",
      "1\n",
      "2\n"
     ]
    }
   ],
   "source": [
    "#break , continue\n",
    "for i in range(10):\n",
    "    if i>=3:\n",
    "        break\n",
    "    print(i)"
   ]
  },
  {
   "cell_type": "code",
   "execution_count": 12,
   "id": "4ebe6148",
   "metadata": {},
   "outputs": [
    {
     "name": "stdout",
     "output_type": "stream",
     "text": [
      "0\n",
      "1\n",
      "2\n",
      "4\n",
      "5\n",
      "6\n",
      "7\n",
      "8\n",
      "9\n"
     ]
    }
   ],
   "source": [
    "for i in range(10):\n",
    "    if i==3:\n",
    "        continue\n",
    "    print(i)"
   ]
  },
  {
   "cell_type": "code",
   "execution_count": 19,
   "id": "ef1b9cc1",
   "metadata": {},
   "outputs": [
    {
     "name": "stdout",
     "output_type": "stream",
     "text": [
      "76548\n",
      "5\n"
     ]
    }
   ],
   "source": [
    "n=int(input())\n",
    "d=0\n",
    "while(n>0):\n",
    "    d=d+1\n",
    "    n=n//10\n",
    "print(d)"
   ]
  },
  {
   "cell_type": "code",
   "execution_count": 1,
   "id": "b2a8eb86",
   "metadata": {},
   "outputs": [
    {
     "name": "stdout",
     "output_type": "stream",
     "text": [
      "23\n",
      "45\n",
      "45\n",
      "23\n"
     ]
    }
   ],
   "source": [
    "a=int(input())\n",
    "b=int(input())\n",
    "c=a\n",
    "a=b\n",
    "b=c\n",
    "print(a)\n",
    "print(b)"
   ]
  },
  {
   "cell_type": "code",
   "execution_count": 2,
   "id": "804fc7ed",
   "metadata": {},
   "outputs": [
    {
     "name": "stdout",
     "output_type": "stream",
     "text": [
      "2\n",
      "4\n",
      "4\n",
      "2\n"
     ]
    }
   ],
   "source": [
    "a=int(input())\n",
    "b=int(input())\n",
    "a,b=b,a\n",
    "print(a)\n",
    "print(b)"
   ]
  },
  {
   "cell_type": "code",
   "execution_count": 4,
   "id": "1fb1ed6a",
   "metadata": {},
   "outputs": [
    {
     "name": "stdout",
     "output_type": "stream",
     "text": [
      "4\n",
      "6\n",
      "6\n",
      "4\n"
     ]
    }
   ],
   "source": [
    "a=int(input())\n",
    "b=int(input())\n",
    "a=a+b\n",
    "b=a-b\n",
    "a=a-b\n",
    "print(a)\n",
    "print(b)"
   ]
  },
  {
   "cell_type": "code",
   "execution_count": null,
   "id": "5c978cde",
   "metadata": {},
   "outputs": [],
   "source": []
  },
  {
   "cell_type": "code",
   "execution_count": null,
   "id": "1ad5990f",
   "metadata": {},
   "outputs": [],
   "source": [
    "1\n",
    "12\n",
    "123\n",
    "1234\n",
    "12345"
   ]
  },
  {
   "cell_type": "code",
   "execution_count": null,
   "id": "74b04240",
   "metadata": {},
   "outputs": [],
   "source": [
    "*\n",
    "**\n",
    "***\n",
    "****\n",
    "***\n",
    "**\n",
    "*"
   ]
  },
  {
   "cell_type": "code",
   "execution_count": 17,
   "id": "869003d4",
   "metadata": {},
   "outputs": [
    {
     "name": "stdout",
     "output_type": "stream",
     "text": [
      "\n",
      "A\n",
      "AB\n",
      "ABC\n",
      "ABCD\n",
      "ABCDE\n"
     ]
    }
   ],
   "source": [
    "for i in range(65,71):\n",
    "    for j in range(65,i):\n",
    "        print(chr(j),end=\" \")\n",
    "    print()"
   ]
  },
  {
   "cell_type": "code",
   "execution_count": null,
   "id": "8e4328f9",
   "metadata": {},
   "outputs": [],
   "source": [
    "A\n",
    "AB\n",
    "ABC\n",
    "ABCD\n",
    "ABCDE"
   ]
  },
  {
   "cell_type": "code",
   "execution_count": 14,
   "id": "da1dc237",
   "metadata": {},
   "outputs": [
    {
     "name": "stdout",
     "output_type": "stream",
     "text": [
      "lower number100\n",
      "uper number500\n",
      "153\n",
      "370\n",
      "371\n",
      "407\n"
     ]
    }
   ],
   "source": [
    "i=int(input(\"lower number\"))\n",
    "p=int(input(\"uper number\"))\n",
    "for num in range(i,p):\n",
    "    k=num\n",
    "    d=0\n",
    "    while(num>0):\n",
    "        d+=1\n",
    "        num//=10\n",
    "\n",
    "    j=0\n",
    "    num=k\n",
    "    while(num>0):\n",
    "        f=num%10\n",
    "        j=j+f**d\n",
    "        num//=10\n",
    "    if k==j:\n",
    "        print(k)"
   ]
  },
  {
   "cell_type": "code",
   "execution_count": 12,
   "id": "96a47bb0",
   "metadata": {},
   "outputs": [
    {
     "name": "stdout",
     "output_type": "stream",
     "text": [
      "0 1 2 3 4 \n",
      "0 1 2 3 4 \n",
      "0 1 2 3 4 \n",
      "0 1 2 3 4 \n",
      "0 1 2 3 4 \n"
     ]
    }
   ],
   "source": [
    "for i in range(5):\n",
    "    for j in range(5):\n",
    "        print(j,end=\" \")\n",
    "    print()"
   ]
  },
  {
   "cell_type": "code",
   "execution_count": 19,
   "id": "6ff06a58",
   "metadata": {},
   "outputs": [
    {
     "name": "stdout",
     "output_type": "stream",
     "text": [
      "<class 'str'>\n"
     ]
    }
   ],
   "source": [
    "a=\"234546\"\n",
    "print(type(a))"
   ]
  },
  {
   "cell_type": "code",
   "execution_count": 21,
   "id": "127dfd45",
   "metadata": {},
   "outputs": [
    {
     "name": "stdout",
     "output_type": "stream",
     "text": [
      "<class 'int'>\n",
      "<class 'str'>\n",
      "12345\n"
     ]
    }
   ],
   "source": [
    "a=12345\n",
    "print(type(a))\n",
    "b=str(a)\n",
    "print(type(b))\n",
    "print(b)"
   ]
  },
  {
   "cell_type": "code",
   "execution_count": 31,
   "id": "a538a94c",
   "metadata": {},
   "outputs": [
    {
     "name": "stdout",
     "output_type": "stream",
     "text": [
      "python\n"
     ]
    }
   ],
   "source": [
    "print(a)"
   ]
  },
  {
   "cell_type": "code",
   "execution_count": 32,
   "id": "c604594c",
   "metadata": {},
   "outputs": [
    {
     "name": "stdout",
     "output_type": "stream",
     "text": [
      "Python string\n"
     ]
    }
   ],
   "source": [
    "a=\"python string\"\n",
    "print(a.capitalize())"
   ]
  },
  {
   "cell_type": "code",
   "execution_count": 27,
   "id": "09530bac",
   "metadata": {},
   "outputs": [
    {
     "name": "stdout",
     "output_type": "stream",
     "text": [
      "PYTHON\n"
     ]
    }
   ],
   "source": [
    "print(a.upper())"
   ]
  },
  {
   "cell_type": "code",
   "execution_count": 28,
   "id": "e116bccb",
   "metadata": {},
   "outputs": [
    {
     "name": "stdout",
     "output_type": "stream",
     "text": [
      "python\n"
     ]
    }
   ],
   "source": [
    "print(a.lower())"
   ]
  },
  {
   "cell_type": "code",
   "execution_count": 51,
   "id": "81cd3b62",
   "metadata": {},
   "outputs": [],
   "source": [
    "a=\"data type \""
   ]
  },
  {
   "cell_type": "code",
   "execution_count": 52,
   "id": "874a5566",
   "metadata": {},
   "outputs": [
    {
     "name": "stdout",
     "output_type": "stream",
     "text": [
      "Data Type \n"
     ]
    }
   ],
   "source": [
    "print(a.title())"
   ]
  },
  {
   "cell_type": "code",
   "execution_count": 53,
   "id": "3db9c642",
   "metadata": {},
   "outputs": [
    {
     "name": "stdout",
     "output_type": "stream",
     "text": [
      "10\n"
     ]
    }
   ],
   "source": [
    "print(len(a))"
   ]
  },
  {
   "cell_type": "code",
   "execution_count": 54,
   "id": "e915d92e",
   "metadata": {},
   "outputs": [
    {
     "name": "stdout",
     "output_type": "stream",
     "text": [
      "y\n"
     ]
    }
   ],
   "source": [
    "print(max(a))"
   ]
  },
  {
   "cell_type": "code",
   "execution_count": 33,
   "id": "841bdcfa",
   "metadata": {},
   "outputs": [
    {
     "name": "stdout",
     "output_type": "stream",
     "text": [
      "python#string\n"
     ]
    }
   ],
   "source": [
    "n=(\"python\",\"string\")\n",
    "v=\"#\".join(n)\n",
    "print(v)"
   ]
  },
  {
   "cell_type": "code",
   "execution_count": 30,
   "id": "7ae9403d",
   "metadata": {},
   "outputs": [
    {
     "name": "stdout",
     "output_type": "stream",
     "text": [
      "PYTHON\n"
     ]
    }
   ],
   "source": [
    "print(a.upper())"
   ]
  },
  {
   "cell_type": "code",
   "execution_count": 2,
   "id": "76a1e5b7",
   "metadata": {},
   "outputs": [
    {
     "name": "stdout",
     "output_type": "stream",
     "text": [
      "True\n"
     ]
    }
   ],
   "source": [
    "a=\" \"\n",
    "c=a.isspace()\n",
    "print(c)"
   ]
  },
  {
   "cell_type": "code",
   "execution_count": 4,
   "id": "ae6239b6",
   "metadata": {},
   "outputs": [
    {
     "name": "stdout",
     "output_type": "stream",
     "text": [
      "False\n"
     ]
    }
   ],
   "source": [
    "c=\"python\"\n",
    "print(c.isalpha())"
   ]
  },
  {
   "cell_type": "code",
   "execution_count": 8,
   "id": "2f6a83bd",
   "metadata": {},
   "outputs": [
    {
     "name": "stdout",
     "output_type": "stream",
     "text": [
      "string 1234\n"
     ]
    }
   ],
   "source": [
    "a=\"string\"\n",
    "b=\"1234\"\n",
    "c=a+\" \" +b\n",
    "print(c)"
   ]
  },
  {
   "cell_type": "code",
   "execution_count": 10,
   "id": "b10b1a8a",
   "metadata": {},
   "outputs": [
    {
     "name": "stdout",
     "output_type": "stream",
     "text": [
      "age is 12 \n"
     ]
    }
   ],
   "source": [
    "a=12\n",
    "b=\"age is {} \"\n",
    "#age is 12\n",
    "print(b.format(a))"
   ]
  },
  {
   "cell_type": "code",
   "execution_count": 18,
   "id": "3bd14a36",
   "metadata": {},
   "outputs": [
    {
     "name": "stdout",
     "output_type": "stream",
     "text": [
      "ti\n"
     ]
    }
   ],
   "source": [
    "a=\"string\"\n",
    "print(a[1:4:2])"
   ]
  },
  {
   "cell_type": "code",
   "execution_count": 24,
   "id": "f260c937",
   "metadata": {},
   "outputs": [
    {
     "name": "stdout",
     "output_type": "stream",
     "text": [
      "n\n"
     ]
    }
   ],
   "source": [
    "a=\"python\"\n",
    "b=\"string\"\n",
    "\n",
    "print(a[-1])"
   ]
  },
  {
   "cell_type": "code",
   "execution_count": null,
   "id": "1ab46784",
   "metadata": {},
   "outputs": [],
   "source": [
    "n=\"Indore\"\n",
    "output\n",
    "I4e"
   ]
  },
  {
   "cell_type": "code",
   "execution_count": 25,
   "id": "60b7317b",
   "metadata": {},
   "outputs": [
    {
     "name": "stdout",
     "output_type": "stream",
     "text": [
      "pejdfjb\n",
      "p 5 b\n"
     ]
    }
   ],
   "source": [
    "n=input()\n",
    "print(n[0],len(n[1:-1]),n[-1])"
   ]
  },
  {
   "cell_type": "code",
   "execution_count": 30,
   "id": "447aba53",
   "metadata": {},
   "outputs": [
    {
     "name": "stdout",
     "output_type": "stream",
     "text": [
      "[1, 2, 3, 'we', 87.9, 2, 3]\n",
      "<class 'list'>\n"
     ]
    }
   ],
   "source": [
    "a=[1,2,3,'we',87.9,2,3]\n",
    "print(a)\n",
    "print(type(a))"
   ]
  },
  {
   "cell_type": "code",
   "execution_count": 35,
   "id": "ca8f550e",
   "metadata": {},
   "outputs": [
    {
     "name": "stdout",
     "output_type": "stream",
     "text": [
      "[12, 34, 45]\n",
      "[1, 2, 12, 34]\n"
     ]
    }
   ],
   "source": [
    "a=[12,34]\n",
    "a.append(45)\n",
    "print(a)\n",
    "\n",
    "b=[1,2]\n",
    "b.extend([12,34])\n",
    "print(b)"
   ]
  },
  {
   "cell_type": "code",
   "execution_count": 37,
   "id": "c62f77b5",
   "metadata": {},
   "outputs": [
    {
     "name": "stdout",
     "output_type": "stream",
     "text": [
      "23\n",
      "[23]\n"
     ]
    }
   ],
   "source": [
    "n=int(input())\n",
    "a=[]\n",
    "a.append(n)\n",
    "print(a)"
   ]
  },
  {
   "cell_type": "code",
   "execution_count": 39,
   "id": "b5e45cd1",
   "metadata": {},
   "outputs": [
    {
     "name": "stdout",
     "output_type": "stream",
     "text": [
      "[0, 1, 2, 3, 4]\n"
     ]
    }
   ],
   "source": [
    "l=[]\n",
    "for i in range(5):\n",
    "    l.append(i)\n",
    "print(l)\n",
    "    "
   ]
  },
  {
   "cell_type": "code",
   "execution_count": 1,
   "id": "106fac8c",
   "metadata": {},
   "outputs": [
    {
     "name": "stdout",
     "output_type": "stream",
     "text": [
      "<class 'int'>\n",
      "<class 'int'>\n",
      "<class 'float'>\n",
      "<class 'complex'>\n",
      "<class 'str'>\n"
     ]
    }
   ],
   "source": [
    "l=[1,2,3.45,56j,\"string\"]\n",
    "for i in l:\n",
    "    print(type(i))"
   ]
  },
  {
   "cell_type": "code",
   "execution_count": 4,
   "id": "4c835b42",
   "metadata": {},
   "outputs": [
    {
     "name": "stdout",
     "output_type": "stream",
     "text": [
      "4\n"
     ]
    }
   ],
   "source": [
    "l=[1,2,3,4,'a']\n",
    "print(l.index('a'))"
   ]
  },
  {
   "cell_type": "code",
   "execution_count": 14,
   "id": "16b5542d",
   "metadata": {},
   "outputs": [
    {
     "name": "stdout",
     "output_type": "stream",
     "text": [
      "[2, 3, 2, 4, 5]\n"
     ]
    }
   ],
   "source": [
    "l=[1,2,3,2,4,5]\n",
    "l.pop(0)\n",
    "print(l)"
   ]
  },
  {
   "cell_type": "code",
   "execution_count": 6,
   "id": "0dd09752",
   "metadata": {},
   "outputs": [
    {
     "name": "stdout",
     "output_type": "stream",
     "text": [
      "[2, 3, 2, 5]\n"
     ]
    }
   ],
   "source": [
    "l.remove(1)\n",
    "print(l)"
   ]
  },
  {
   "cell_type": "code",
   "execution_count": 10,
   "id": "2cf22317",
   "metadata": {},
   "outputs": [
    {
     "name": "stdout",
     "output_type": "stream",
     "text": [
      "[1, 2, 3, 4, 5]\n"
     ]
    }
   ],
   "source": [
    "l=[1,2,3,2,4,5]\n",
    "l.pop(3)\n",
    "print(l)"
   ]
  },
  {
   "cell_type": "code",
   "execution_count": 15,
   "id": "538fb452",
   "metadata": {},
   "outputs": [
    {
     "name": "stdout",
     "output_type": "stream",
     "text": [
      "he is a good boy\n"
     ]
    }
   ],
   "source": [
    "l=[\"he is a \", 'good boy']\n",
    "a=l[0]\n",
    "b=l[1]\n",
    "c=str(a)+str(b)\n",
    "print(c)"
   ]
  },
  {
   "cell_type": "code",
   "execution_count": 17,
   "id": "52e1cad1",
   "metadata": {},
   "outputs": [
    {
     "name": "stdout",
     "output_type": "stream",
     "text": [
      "2\n"
     ]
    }
   ],
   "source": [
    "l=[1,2,3,'a','b','a']\n",
    "print(l.count('a'))"
   ]
  },
  {
   "cell_type": "code",
   "execution_count": 25,
   "id": "e3cfafe1",
   "metadata": {},
   "outputs": [
    {
     "name": "stdout",
     "output_type": "stream",
     "text": [
      "[1, 2, 3, 12, 55, 66, 223, 433]\n"
     ]
    }
   ],
   "source": [
    "l=[12,223,1,2,3,55,66,433]\n",
    "l.sort()\n",
    "print(l)"
   ]
  },
  {
   "cell_type": "code",
   "execution_count": 26,
   "id": "6fc46d3e",
   "metadata": {},
   "outputs": [
    {
     "name": "stdout",
     "output_type": "stream",
     "text": [
      "[433, 223, 66, 55, 12, 3, 2, 1]\n"
     ]
    }
   ],
   "source": [
    "l.sort(reverse=True)\n",
    "print(l)"
   ]
  },
  {
   "cell_type": "code",
   "execution_count": 27,
   "id": "4d48c9f2",
   "metadata": {},
   "outputs": [
    {
     "name": "stdout",
     "output_type": "stream",
     "text": [
      "[66, 55, 12, 3, 2, 1]\n"
     ]
    }
   ],
   "source": [
    "print(l[2:])"
   ]
  },
  {
   "cell_type": "code",
   "execution_count": 29,
   "id": "66fb342b",
   "metadata": {},
   "outputs": [
    {
     "name": "stdout",
     "output_type": "stream",
     "text": [
      "[433, 66, 12]\n"
     ]
    }
   ],
   "source": [
    "print(l[:6:2])"
   ]
  },
  {
   "cell_type": "code",
   "execution_count": 1,
   "id": "f9ee9e3b",
   "metadata": {},
   "outputs": [
    {
     "name": "stdout",
     "output_type": "stream",
     "text": [
      "<class 'tuple'>\n"
     ]
    }
   ],
   "source": [
    "#tuple\n",
    "t=()\n",
    "print(type(t))"
   ]
  },
  {
   "cell_type": "code",
   "execution_count": 4,
   "id": "b91ddb53",
   "metadata": {},
   "outputs": [
    {
     "name": "stdout",
     "output_type": "stream",
     "text": [
      "(1, 2, 3, 1, 4)\n",
      "2\n",
      "2\n"
     ]
    }
   ],
   "source": [
    "t=(1,2,3,1,4)\n",
    "print(t)\n",
    "print(t.count(1))\n",
    "print(t.index(3))"
   ]
  },
  {
   "cell_type": "code",
   "execution_count": null,
   "id": "bbf7657a",
   "metadata": {},
   "outputs": [],
   "source": [
    "t=()\n",
    "(1,2,3,4,5,6,7)"
   ]
  },
  {
   "cell_type": "code",
   "execution_count": 5,
   "id": "b3275c86",
   "metadata": {},
   "outputs": [
    {
     "name": "stdout",
     "output_type": "stream",
     "text": [
      "(1, 2, 3, 4, 5, 6, 7)\n"
     ]
    }
   ],
   "source": [
    "t=()\n",
    "l=list(t)\n",
    "for i in range(1,8):\n",
    "    l.append(i)\n",
    "t=tuple(l)\n",
    "print(t)"
   ]
  },
  {
   "cell_type": "code",
   "execution_count": null,
   "id": "6619eae6",
   "metadata": {},
   "outputs": [],
   "source": [
    "t=(33,2,4,5,77,11,2,3,1)"
   ]
  },
  {
   "cell_type": "code",
   "execution_count": 6,
   "id": "6f1a4d09",
   "metadata": {},
   "outputs": [
    {
     "name": "stdout",
     "output_type": "stream",
     "text": [
      "(2, 4, 6, 8, 10, 12, 14)\n"
     ]
    }
   ],
   "source": [
    "a=()\n",
    "l=list(a)\n",
    "for i in range(1,15):\n",
    "    if i%2==0:\n",
    "        l.append(i)\n",
    "t=tuple(l)\n",
    "print(t)"
   ]
  },
  {
   "cell_type": "code",
   "execution_count": 8,
   "id": "cfa50694",
   "metadata": {},
   "outputs": [
    {
     "name": "stdout",
     "output_type": "stream",
     "text": [
      "[433, 223, 66, 55, 12, 3, 2, 1]\n"
     ]
    }
   ],
   "source": [
    "l=[1, 2, 3, 12, 55, 66, 223, 433]\n",
    "print(l[::-1])"
   ]
  },
  {
   "cell_type": "code",
   "execution_count": 5,
   "id": "a64937ad",
   "metadata": {},
   "outputs": [
    {
     "name": "stdout",
     "output_type": "stream",
     "text": [
      "[0, 1, 4, 9, 16, 25, 36, 49, 64, 81]\n"
     ]
    }
   ],
   "source": [
    "l=[x**2 for x in range(10)]\n",
    "print(l)"
   ]
  },
  {
   "cell_type": "code",
   "execution_count": null,
   "id": "36b4c067",
   "metadata": {},
   "outputs": [],
   "source": [
    "for i in range(10):\n",
    "    if i%2==0:\n",
    "        print(i)"
   ]
  },
  {
   "cell_type": "code",
   "execution_count": 4,
   "id": "e0c9a5e3",
   "metadata": {},
   "outputs": [
    {
     "name": "stdout",
     "output_type": "stream",
     "text": [
      "[0, 2, 4, 6, 8, 10, 12, 14, 16, 18, 20, 22, 24, 26, 28, 30, 32, 34, 36, 38, 40, 42, 44, 46, 48, 50, 52, 54, 56, 58, 60, 62, 64, 66, 68, 70, 72, 74, 76, 78, 80, 82, 84, 86, 88, 90, 92, 94, 96, 98]\n"
     ]
    }
   ],
   "source": [
    "l=[x for x in range(100) if x%2==0]\n",
    "print(l)"
   ]
  },
  {
   "cell_type": "code",
   "execution_count": null,
   "id": "61d657e5",
   "metadata": {},
   "outputs": [],
   "source": [
    "[0,1,4,9,16,25,36,49,64,81]"
   ]
  },
  {
   "cell_type": "code",
   "execution_count": 10,
   "id": "b70cf755",
   "metadata": {},
   "outputs": [
    {
     "name": "stdout",
     "output_type": "stream",
     "text": [
      "<class 'set'>\n",
      "{1, 2, 3, 4}\n"
     ]
    }
   ],
   "source": [
    "s={1,2,3,4,2,3}\n",
    "print(type(s))\n",
    "print(s)"
   ]
  },
  {
   "cell_type": "code",
   "execution_count": 23,
   "id": "fdaaf410",
   "metadata": {},
   "outputs": [
    {
     "name": "stdout",
     "output_type": "stream",
     "text": [
      "{3, 5, 22, 11, 44}\n",
      "{1, 2, 3, 5, 6, 7, 11, 44, 22}\n",
      "{1, 2, 3, 5, 6, 7, 11, 44, 22}\n",
      "{3}\n",
      "{3}\n"
     ]
    }
   ],
   "source": [
    "s={11,22,44,3,5,2}\n",
    "s1={1,6,7,2,3}\n",
    "s.pop()\n",
    "print(s)\n",
    "print(s.union(s1))\n",
    "print(s | s1)\n",
    "print(s.intersection(s1))\n",
    "print(s & s1)"
   ]
  },
  {
   "cell_type": "code",
   "execution_count": 13,
   "id": "39a6672f",
   "metadata": {},
   "outputs": [
    {
     "name": "stdout",
     "output_type": "stream",
     "text": [
      "11\n",
      "22\n",
      "44\n",
      "3\n",
      "5\n",
      "2\n"
     ]
    }
   ],
   "source": [
    "l=[11,22,44,3,5,2]\n",
    "for i in l:\n",
    "    print(i)"
   ]
  },
  {
   "cell_type": "code",
   "execution_count": 24,
   "id": "0ee8d37a",
   "metadata": {},
   "outputs": [
    {
     "name": "stdout",
     "output_type": "stream",
     "text": [
      "{1, 2, 3, 5, 6}\n"
     ]
    }
   ],
   "source": [
    "s={1,2,3,4,5,6}\n",
    "s.remove(4)\n",
    "print(s)"
   ]
  },
  {
   "cell_type": "code",
   "execution_count": 25,
   "id": "2d040779",
   "metadata": {},
   "outputs": [
    {
     "name": "stdout",
     "output_type": "stream",
     "text": [
      "{1, 2, 3, 4, 'd', 'b', 'c', 'a'}\n"
     ]
    }
   ],
   "source": [
    "s={1,2,3,4}\n",
    "s1={'a','b','c','d'}\n",
    "s.update(s1)\n",
    "print(s)"
   ]
  },
  {
   "cell_type": "code",
   "execution_count": 26,
   "id": "8ca6e940",
   "metadata": {},
   "outputs": [
    {
     "name": "stdout",
     "output_type": "stream",
     "text": [
      "{1: 'a', 2: 'b', 3: 'c'}\n",
      "<class 'dict'>\n"
     ]
    }
   ],
   "source": [
    "d={1:'a',2:'b',3:'c'}\n",
    "print(d)\n",
    "print(type(d))"
   ]
  },
  {
   "cell_type": "code",
   "execution_count": 3,
   "id": "55bd3498",
   "metadata": {},
   "outputs": [
    {
     "name": "stdout",
     "output_type": "stream",
     "text": [
      "{1: 'e', 2: 'b', 3: 'c', 4: 'a'}\n",
      "c\n",
      "{1: 'e', 2: 'b', 3: 'c', 4: 'a', 22: 'python'}\n"
     ]
    }
   ],
   "source": [
    "d={1:'a',2:'b',3:'c',1:'e',4:'a'}\n",
    "print(d)\n",
    "s=d.get(3)\n",
    "print(s)\n",
    "d.update({22:'python'})\n",
    "print(d)"
   ]
  },
  {
   "cell_type": "code",
   "execution_count": 5,
   "id": "f17ddef7",
   "metadata": {},
   "outputs": [
    {
     "name": "stdout",
     "output_type": "stream",
     "text": [
      "{4: 'd', 1: 'a', 2: 'b', 3: 'c'}\n"
     ]
    }
   ],
   "source": [
    "c={4:\"d\"}\n",
    "d={1:\"a\", 2:\"b\", 3:\"c\"}\n",
    "c.update(d)\n",
    "print(c)"
   ]
  },
  {
   "cell_type": "code",
   "execution_count": 9,
   "id": "d864d6e0",
   "metadata": {},
   "outputs": [
    {
     "name": "stdout",
     "output_type": "stream",
     "text": [
      "hello\n"
     ]
    }
   ],
   "source": [
    "def he():\n",
    "    print(\"hello\")\n",
    "he()"
   ]
  },
  {
   "cell_type": "code",
   "execution_count": 18,
   "id": "264fc569",
   "metadata": {},
   "outputs": [
    {
     "name": "stdout",
     "output_type": "stream",
     "text": [
      "60\n"
     ]
    },
    {
     "data": {
      "text/plain": [
       "6"
      ]
     },
     "execution_count": 18,
     "metadata": {},
     "output_type": "execute_result"
    }
   ],
   "source": [
    "def sum(a,b,c):\n",
    "    return a+b+c\n",
    "print(sum(12,3,45))\n",
    "sum(1,2,3)"
   ]
  },
  {
   "cell_type": "code",
   "execution_count": 22,
   "id": "8d2420ab",
   "metadata": {},
   "outputs": [
    {
     "name": "stdout",
     "output_type": "stream",
     "text": [
      "5\n",
      "6\n"
     ]
    }
   ],
   "source": [
    "def count(n):\n",
    "    d=0\n",
    "    while(n>0):\n",
    "        d=d+1\n",
    "        n=n//10\n",
    "    print(d)\n",
    "count(65432)\n",
    "count(765432)"
   ]
  },
  {
   "cell_type": "code",
   "execution_count": 23,
   "id": "daa6fffe",
   "metadata": {},
   "outputs": [
    {
     "name": "stdout",
     "output_type": "stream",
     "text": [
      "8\n"
     ]
    }
   ],
   "source": [
    "count(98765432)"
   ]
  },
  {
   "cell_type": "code",
   "execution_count": 1,
   "id": "f32a2d03",
   "metadata": {},
   "outputs": [
    {
     "name": "stdout",
     "output_type": "stream",
     "text": [
      "15\n"
     ]
    }
   ],
   "source": [
    "def sum3(n):\n",
    "    s=0\n",
    "    while(n>0):\n",
    "        f=n%10\n",
    "        s+=f\n",
    "        n//=10\n",
    "    print(s)\n",
    "sum3(348)"
   ]
  },
  {
   "cell_type": "code",
   "execution_count": 2,
   "id": "39b3399b",
   "metadata": {},
   "outputs": [],
   "source": [
    "def is_prime(n):\n",
    "    d=0\n",
    "    for i in range(2,n):\n",
    "        if n%i==0:\n",
    "            d+=1\n",
    "            break\n",
    "    if d==0:\n",
    "        print(\"prime number\")\n",
    "    else:\n",
    "        print(\"not a prime number\")"
   ]
  },
  {
   "cell_type": "code",
   "execution_count": 3,
   "id": "409020f2",
   "metadata": {},
   "outputs": [
    {
     "name": "stdout",
     "output_type": "stream",
     "text": [
      "not a prime number\n"
     ]
    }
   ],
   "source": [
    "is_prime(15)"
   ]
  },
  {
   "cell_type": "code",
   "execution_count": 4,
   "id": "3666127e",
   "metadata": {},
   "outputs": [
    {
     "name": "stdout",
     "output_type": "stream",
     "text": [
      "prime number\n"
     ]
    }
   ],
   "source": [
    "is_prime(19)"
   ]
  },
  {
   "cell_type": "code",
   "execution_count": null,
   "id": "cfc4cd60",
   "metadata": {},
   "outputs": [],
   "source": [
    "#in-built\n",
    "filter,reduce,map,zip,enumerate"
   ]
  },
  {
   "cell_type": "code",
   "execution_count": 16,
   "id": "9b9fdff2",
   "metadata": {},
   "outputs": [],
   "source": [
    "def sum(a,b):\n",
    "    return a+b"
   ]
  },
  {
   "cell_type": "code",
   "execution_count": 20,
   "id": "a1b68fb5",
   "metadata": {},
   "outputs": [
    {
     "name": "stdout",
     "output_type": "stream",
     "text": [
      "[0, 1, 2, 3, 4, 5, 6, 7, 8, 9]\n",
      "45\n"
     ]
    }
   ],
   "source": [
    "from functools import reduce\n",
    "l=[i for i in range(10)]\n",
    "print(l)\n",
    "print(reduce(sum,l))"
   ]
  },
  {
   "cell_type": "code",
   "execution_count": 24,
   "id": "1965de4c",
   "metadata": {},
   "outputs": [
    {
     "name": "stdout",
     "output_type": "stream",
     "text": [
      "[(1, 11), (2, 22), (3, 33), (4, 44), (5, 55), (6, 66)]\n"
     ]
    }
   ],
   "source": [
    "l=[1,2,3,4,5,6]\n",
    "l1=[11,22,33,44,55,66]\n",
    "print(list(zip(l,l1)))"
   ]
  },
  {
   "cell_type": "code",
   "execution_count": 36,
   "id": "173ec0c2",
   "metadata": {},
   "outputs": [],
   "source": [
    "def even(n):\n",
    "    if n%2==0:\n",
    "        return True\n",
    "    \n",
    "    "
   ]
  },
  {
   "cell_type": "code",
   "execution_count": 37,
   "id": "4a150cfe",
   "metadata": {},
   "outputs": [
    {
     "name": "stdout",
     "output_type": "stream",
     "text": [
      "[0, 2, 4, 6, 8, 10, 12, 14, 16, 18, 20, 22, 24, 26, 28, 30, 32, 34, 36, 38, 40, 42, 44, 46, 48, 50, 52, 54, 56, 58, 60, 62, 64, 66, 68, 70, 72, 74, 76, 78, 80, 82, 84, 86, 88, 90, 92, 94, 96, 98]\n"
     ]
    }
   ],
   "source": [
    "l=[i for i in range(100)]\n",
    "print(list(filter(even,l)))"
   ]
  },
  {
   "cell_type": "code",
   "execution_count": null,
   "id": "422de90a",
   "metadata": {},
   "outputs": [],
   "source": []
  },
  {
   "cell_type": "code",
   "execution_count": 2,
   "id": "4b3c8615",
   "metadata": {},
   "outputs": [
    {
     "ename": "NameError",
     "evalue": "name 's1' is not defined",
     "output_type": "error",
     "traceback": [
      "\u001b[1;31m---------------------------------------------------------------------------\u001b[0m",
      "\u001b[1;31mNameError\u001b[0m                                 Traceback (most recent call last)",
      "Input \u001b[1;32mIn [2]\u001b[0m, in \u001b[0;36m<cell line: 1>\u001b[1;34m()\u001b[0m\n\u001b[1;32m----> 1\u001b[0m \u001b[43ms1\u001b[49m(\u001b[38;5;124m'\u001b[39m\u001b[38;5;124mpython string\u001b[39m\u001b[38;5;124m'\u001b[39m)\n",
      "\u001b[1;31mNameError\u001b[0m: name 's1' is not defined"
     ]
    }
   ],
   "source": []
  },
  {
   "cell_type": "code",
   "execution_count": 1,
   "id": "db058289",
   "metadata": {},
   "outputs": [
    {
     "name": "stdout",
     "output_type": "stream",
     "text": [
      "python string\n",
      "['python', 'string']\n"
     ]
    }
   ],
   "source": [
    "n=input()\n",
    "c=n.split()\n",
    "print(c)"
   ]
  },
  {
   "cell_type": "code",
   "execution_count": 3,
   "id": "99dd49e9",
   "metadata": {},
   "outputs": [],
   "source": [
    "def same_letter(n):\n",
    "    word=n.split()\n",
    "    return word[0][0]==word[1][0]"
   ]
  },
  {
   "cell_type": "code",
   "execution_count": 5,
   "id": "6c00eb5a",
   "metadata": {},
   "outputs": [
    {
     "data": {
      "text/plain": [
       "True"
      ]
     },
     "execution_count": 5,
     "metadata": {},
     "output_type": "execute_result"
    }
   ],
   "source": [
    "same_letter('python ptring')"
   ]
  },
  {
   "cell_type": "code",
   "execution_count": 9,
   "id": "705765b2",
   "metadata": {},
   "outputs": [
    {
     "name": "stdout",
     "output_type": "stream",
     "text": [
      "r\n",
      "p\n"
     ]
    }
   ],
   "source": [
    "l=['word','python']\n",
    "print(l[0][2])\n",
    "print(l[1][0])"
   ]
  },
  {
   "cell_type": "code",
   "execution_count": 10,
   "id": "07398edf",
   "metadata": {},
   "outputs": [
    {
     "data": {
      "text/plain": [
       "'PytHon'"
      ]
     },
     "execution_count": 10,
     "metadata": {},
     "output_type": "execute_result"
    }
   ],
   "source": [
    "def name(n):\n",
    "    if len(n)>3:\n",
    "        return n[:3].capitalize()+n[3:].capitalize()\n",
    "    else:\n",
    "        print(\"name is too short\")\n",
    "name('python')"
   ]
  },
  {
   "cell_type": "code",
   "execution_count": 15,
   "id": "090a1e13",
   "metadata": {},
   "outputs": [],
   "source": [
    "def name(text):\n",
    "    return ' '.join(text.split()[::-1])\n"
   ]
  },
  {
   "cell_type": "code",
   "execution_count": 16,
   "id": "0d59f31f",
   "metadata": {},
   "outputs": [
    {
     "data": {
      "text/plain": [
       "'home am i'"
      ]
     },
     "execution_count": 16,
     "metadata": {},
     "output_type": "execute_result"
    }
   ],
   "source": [
    "name('i am home')"
   ]
  },
  {
   "cell_type": "code",
   "execution_count": 17,
   "id": "46d2330c",
   "metadata": {},
   "outputs": [
    {
     "name": "stdout",
     "output_type": "stream",
     "text": [
      "[4, 3, 2, 1]\n"
     ]
    }
   ],
   "source": [
    "l=[1,2,3,4]\n",
    "print(l[::-1])"
   ]
  },
  {
   "cell_type": "code",
   "execution_count": 18,
   "id": "75159d8f",
   "metadata": {},
   "outputs": [],
   "source": [
    "def name(text):\n",
    "    r=''\n",
    "    for char in text:\n",
    "        r+=char*3\n",
    "    return r"
   ]
  },
  {
   "cell_type": "code",
   "execution_count": 20,
   "id": "5c30ec0c",
   "metadata": {},
   "outputs": [
    {
     "data": {
      "text/plain": [
       "'hhheeellllllooo000'"
      ]
     },
     "execution_count": 20,
     "metadata": {},
     "output_type": "execute_result"
    }
   ],
   "source": [
    "name('hello0')"
   ]
  },
  {
   "cell_type": "code",
   "execution_count": 5,
   "id": "3036dd7a",
   "metadata": {},
   "outputs": [
    {
     "name": "stdout",
     "output_type": "stream",
     "text": [
      "['even number', 'odd number', 'even number', 'odd number', 'even number', 'odd number', 'even number', 'odd number', 'even number', 'odd number']\n"
     ]
    }
   ],
   "source": [
    "def name(n):\n",
    "    if n%2==0:\n",
    "        return \"even number\"\n",
    "    else:\n",
    "        return \"odd number\"\n",
    "l=[i for i in range(10)]\n",
    "print(list(map(name,l)))"
   ]
  },
  {
   "cell_type": "code",
   "execution_count": 2,
   "id": "f8a7bfb0",
   "metadata": {},
   "outputs": [
    {
     "name": "stdout",
     "output_type": "stream",
     "text": [
      "[5, 6, 7, 8, 9, 10, 11, 12, 13, 14, 15, 16, 17, 18, 19]\n",
      "(4, 5)\n",
      "(5, 6)\n",
      "(6, 7)\n",
      "(7, 8)\n",
      "(8, 9)\n",
      "(9, 10)\n",
      "(10, 11)\n",
      "(11, 12)\n",
      "(12, 13)\n",
      "(13, 14)\n",
      "(14, 15)\n",
      "(15, 16)\n",
      "(16, 17)\n",
      "(17, 18)\n",
      "(18, 19)\n"
     ]
    }
   ],
   "source": [
    "l=[i for i in range(5,20)]\n",
    "print(l)\n",
    "for n in enumerate(l):\n",
    "    print(n)"
   ]
  },
  {
   "cell_type": "code",
   "execution_count": 6,
   "id": "fc8f6c4d",
   "metadata": {},
   "outputs": [],
   "source": [
    "class mobile:\n",
    "    def s1(self):\n",
    "        print(\"it is a s1 function\")"
   ]
  },
  {
   "cell_type": "code",
   "execution_count": 7,
   "id": "615f8741",
   "metadata": {},
   "outputs": [
    {
     "name": "stdout",
     "output_type": "stream",
     "text": [
      "it is a s1 function\n"
     ]
    }
   ],
   "source": [
    "obj=mobile()\n",
    "obj.s1()"
   ]
  },
  {
   "cell_type": "code",
   "execution_count": 26,
   "id": "cc45c727",
   "metadata": {},
   "outputs": [],
   "source": [
    "class phone:\n",
    "    def show(self,a,b):\n",
    "        print(a-b)\n",
    "    def show1(self,fact):\n",
    "        f=1\n",
    "        for i in range(1,fact+1):\n",
    "            f=f*i\n",
    "        print(f)\n",
    "    def show2(self,n):\n",
    "        s=0\n",
    "        for i in range(n):\n",
    "            s+=i\n",
    "        print(s)\n",
    "        "
   ]
  },
  {
   "cell_type": "code",
   "execution_count": 28,
   "id": "69e931a7",
   "metadata": {},
   "outputs": [
    {
     "name": "stdout",
     "output_type": "stream",
     "text": [
      "22\n",
      "5040\n",
      "45\n"
     ]
    }
   ],
   "source": [
    "obj=phone()\n",
    "obj.show(23,1)\n",
    "obj.show1(7)\n",
    "obj.show2(10)"
   ]
  },
  {
   "cell_type": "code",
   "execution_count": 17,
   "id": "47c57499",
   "metadata": {},
   "outputs": [],
   "source": [
    "class parent:\n",
    "    def parent_funct(self):\n",
    "        print(\"it is a parent class\")\n",
    "class child(parent):\n",
    "    def child_funct(self):\n",
    "        print(\"it is a child function\")"
   ]
  },
  {
   "cell_type": "code",
   "execution_count": 18,
   "id": "9a29bd28",
   "metadata": {},
   "outputs": [
    {
     "name": "stdout",
     "output_type": "stream",
     "text": [
      "it is a parent class\n",
      "it is a child function\n"
     ]
    }
   ],
   "source": [
    "obj=child()\n",
    "obj.parent_funct()\n",
    "obj.child_funct()"
   ]
  },
  {
   "cell_type": "code",
   "execution_count": 19,
   "id": "34456931",
   "metadata": {},
   "outputs": [],
   "source": [
    "#multiple inheritance\n",
    "class parent:\n",
    "    def parent_funct(self):\n",
    "        print(\"it is a parent class\")\n",
    "class parent1:\n",
    "    def parent1_funct(self):\n",
    "        print(\"it is a parent1 function\")\n",
    "class child(parent,parent1):\n",
    "    def child_funct(self):\n",
    "        print(\"it is a chil function\")"
   ]
  },
  {
   "cell_type": "code",
   "execution_count": 22,
   "id": "eab27665",
   "metadata": {},
   "outputs": [
    {
     "name": "stdout",
     "output_type": "stream",
     "text": [
      "it is a parent1 function\n",
      "it is a chil function\n",
      "it is a parent class\n"
     ]
    }
   ],
   "source": [
    "obj1=child()\n",
    "obj1.parent1_funct()\n",
    "obj1.child_funct()\n",
    "obj1.parent_funct()"
   ]
  },
  {
   "cell_type": "code",
   "execution_count": 23,
   "id": "3babcf06",
   "metadata": {},
   "outputs": [],
   "source": [
    "class S:\n",
    "    def s1(self):\n",
    "        print(\"it is a S class\")\n",
    "class V(S):\n",
    "    def v1(self):\n",
    "        print(\"it is a V class\")\n",
    "class Z(V):\n",
    "    def z1(self):\n",
    "        print(\"it is a Z class\")\n",
    "        "
   ]
  },
  {
   "cell_type": "code",
   "execution_count": 24,
   "id": "18cc942b",
   "metadata": {},
   "outputs": [
    {
     "name": "stdout",
     "output_type": "stream",
     "text": [
      "it is a S class\n",
      "it is a V class\n",
      "it is a Z class\n"
     ]
    }
   ],
   "source": [
    "c=Z()\n",
    "c.s1()\n",
    "c.v1()\n",
    "c.z1()"
   ]
  },
  {
   "cell_type": "code",
   "execution_count": 1,
   "id": "2526fbeb",
   "metadata": {},
   "outputs": [
    {
     "name": "stdout",
     "output_type": "stream",
     "text": [
      "this is a E class \n"
     ]
    }
   ],
   "source": [
    "class A:\n",
    "    def a(self):\n",
    "        print(\"this is a A class\")\n",
    "class B:\n",
    "    def b(self):\n",
    "        print(\"this is a B class\")\n",
    "class C(A,B):\n",
    "    def c(self):\n",
    "        print(\"this is a C class\")\n",
    "class D(C):\n",
    "    def d(self):\n",
    "        print(\"this is a D class\")\n",
    "class E(D):\n",
    "    def e(self):\n",
    "        print(\"this is a E class \")\n",
    "ob=E()\n",
    "ob.e()"
   ]
  },
  {
   "cell_type": "code",
   "execution_count": 4,
   "id": "dc47b646",
   "metadata": {},
   "outputs": [],
   "source": [
    "#polymorphism\n",
    "class A:\n",
    "    def a(self):\n",
    "        print(\"this is a A class function\")\n",
    "class B(A):\n",
    "    def a(self):\n",
    "        print(\"this is a B class function\")\n",
    "        super().a()"
   ]
  },
  {
   "cell_type": "code",
   "execution_count": 5,
   "id": "6d94e19b",
   "metadata": {},
   "outputs": [
    {
     "name": "stdout",
     "output_type": "stream",
     "text": [
      "this is a B class function\n",
      "this is a A class function\n"
     ]
    }
   ],
   "source": [
    "ob=B()\n",
    "ob.a()"
   ]
  },
  {
   "cell_type": "code",
   "execution_count": 23,
   "id": "0246587a",
   "metadata": {},
   "outputs": [],
   "source": [
    "#init function\n",
    "class A:\n",
    "    def __init__(self):\n",
    "        print(\"this is init function\")\n",
    "    def view(self):\n",
    "        print(\"this is a view function\")\n"
   ]
  },
  {
   "cell_type": "code",
   "execution_count": 25,
   "id": "f8ee60e7",
   "metadata": {},
   "outputs": [
    {
     "name": "stdout",
     "output_type": "stream",
     "text": [
      "this is init function\n",
      "this is a view function\n"
     ]
    }
   ],
   "source": [
    "ob=A()\n",
    "ob.view()"
   ]
  },
  {
   "cell_type": "code",
   "execution_count": 30,
   "id": "998d2b35",
   "metadata": {},
   "outputs": [],
   "source": [
    "#encapsulation\n",
    "class first:\n",
    "    def __init__(self):\n",
    "        self.a=3\n",
    "        self.b=2\n",
    "    def sum(self):\n",
    "        return self.a+self.b\n",
    "class second(first):\n",
    "    def __init__(self):\n",
    "        first.__init__(self)\n",
    "    def sub(self):\n",
    "        return self.a-self.b"
   ]
  },
  {
   "cell_type": "code",
   "execution_count": 31,
   "id": "2bb0f4f7",
   "metadata": {},
   "outputs": [
    {
     "data": {
      "text/plain": [
       "1"
      ]
     },
     "execution_count": 31,
     "metadata": {},
     "output_type": "execute_result"
    }
   ],
   "source": [
    "c=second()\n",
    "c.sub()"
   ]
  },
  {
   "cell_type": "code",
   "execution_count": 3,
   "id": "985da54e",
   "metadata": {},
   "outputs": [
    {
     "name": "stdout",
     "output_type": "stream",
     "text": [
      "guess the number56\n",
      "chose greater number\n",
      "guess the number80\n",
      "chose greater number\n",
      "guess the number95\n",
      "chose greater number\n",
      "guess the number100\n",
      "chose lesser number\n",
      "guess the number98\n",
      "chose lesser number\n",
      "guess the number97\n",
      "correct number steps is= 6\n"
     ]
    }
   ],
   "source": [
    "import random as a\n",
    "c=a.randrange(1,100)\n",
    "k=True\n",
    "d=0\n",
    "while(k):\n",
    "    n=int(input(\"guess the number\"))\n",
    "    d+=1\n",
    "    if c>n:\n",
    "        print(\"chose greater number\")\n",
    "    elif c<n:\n",
    "        print(\"chose lesser number\")\n",
    "    else:\n",
    "        print(\"correct number steps is=\",d)\n",
    "        k=False\n",
    "    "
   ]
  },
  {
   "cell_type": "code",
   "execution_count": 25,
   "id": "45e70683",
   "metadata": {},
   "outputs": [
    {
     "name": "stdout",
     "output_type": "stream",
     "text": [
      "41\n"
     ]
    }
   ],
   "source": [
    "import random as a\n",
    "c=a.randint(1,50)\n",
    "print(c)"
   ]
  },
  {
   "cell_type": "code",
   "execution_count": 16,
   "id": "f525a931",
   "metadata": {},
   "outputs": [
    {
     "name": "stdout",
     "output_type": "stream",
     "text": [
      "[4, 2, 3, 1]\n"
     ]
    }
   ],
   "source": [
    "l=[1,2,3,4]\n",
    "a.shuffle(l)\n",
    "print(l)"
   ]
  },
  {
   "cell_type": "code",
   "execution_count": 18,
   "id": "e4739e2c",
   "metadata": {},
   "outputs": [
    {
     "name": "stdout",
     "output_type": "stream",
     "text": [
      "enter the number24\n",
      "enter the number0\n"
     ]
    },
    {
     "ename": "ZeroDivisionError",
     "evalue": "integer division or modulo by zero",
     "output_type": "error",
     "traceback": [
      "\u001b[1;31m---------------------------------------------------------------------------\u001b[0m",
      "\u001b[1;31mZeroDivisionError\u001b[0m                         Traceback (most recent call last)",
      "Input \u001b[1;32mIn [18]\u001b[0m, in \u001b[0;36m<cell line: 3>\u001b[1;34m()\u001b[0m\n\u001b[0;32m      1\u001b[0m a\u001b[38;5;241m=\u001b[39m\u001b[38;5;28mint\u001b[39m(\u001b[38;5;28minput\u001b[39m(\u001b[38;5;124m\"\u001b[39m\u001b[38;5;124menter the number\u001b[39m\u001b[38;5;124m\"\u001b[39m))\n\u001b[0;32m      2\u001b[0m b\u001b[38;5;241m=\u001b[39m\u001b[38;5;28mint\u001b[39m(\u001b[38;5;28minput\u001b[39m(\u001b[38;5;124m\"\u001b[39m\u001b[38;5;124menter the number\u001b[39m\u001b[38;5;124m\"\u001b[39m))\n\u001b[1;32m----> 3\u001b[0m \u001b[38;5;28mprint\u001b[39m(\u001b[43ma\u001b[49m\u001b[38;5;241;43m/\u001b[39;49m\u001b[38;5;241;43m/\u001b[39;49m\u001b[43mb\u001b[49m)\n",
      "\u001b[1;31mZeroDivisionError\u001b[0m: integer division or modulo by zero"
     ]
    }
   ],
   "source": [
    "a=int(input(\"enter the number\"))\n",
    "b=int(input(\"enter the number\"))\n",
    "print(a//b)"
   ]
  },
  {
   "cell_type": "code",
   "execution_count": 20,
   "id": "b880489c",
   "metadata": {},
   "outputs": [
    {
     "name": "stdout",
     "output_type": "stream",
     "text": [
      "enter the number45\n",
      "enter the number0\n",
      "not divisible\n"
     ]
    }
   ],
   "source": [
    "try:\n",
    "    a=int(input(\"enter the number\"))\n",
    "    b=int(input(\"enter the number\"))\n",
    "    print(a//b)\n",
    "except ZeroDivisionError:\n",
    "    print(\"not divisible\")"
   ]
  },
  {
   "cell_type": "code",
   "execution_count": 26,
   "id": "52d68336",
   "metadata": {},
   "outputs": [
    {
     "name": "stdout",
     "output_type": "stream",
     "text": [
      "enter the number45\n",
      "enter the number0\n",
      "please try again\n",
      "enter the number67\n",
      "enter the numberu\n",
      "please try again\n",
      "enter the number45\n",
      "enter the number6\n",
      "7\n",
      "completed\n"
     ]
    }
   ],
   "source": [
    "\n",
    "k=True\n",
    "while(k):\n",
    "    try:\n",
    "        a=int(input(\"enter the number\"))\n",
    "        b=int(input(\"enter the number\"))\n",
    "        print(a//b)\n",
    "        k=False\n",
    "    except:\n",
    "        print(\"please try again\")\n",
    "    else:\n",
    "        print(\"completed\")"
   ]
  },
  {
   "cell_type": "code",
   "execution_count": 1,
   "id": "5c2b236c",
   "metadata": {},
   "outputs": [
    {
     "data": {
      "text/plain": [
       "18"
      ]
     },
     "execution_count": 1,
     "metadata": {},
     "output_type": "execute_result"
    }
   ],
   "source": [
    "#Module\n",
    "import mayank\n",
    "mayank.sum1(23,5)"
   ]
  },
  {
   "cell_type": "code",
   "execution_count": 2,
   "id": "e1aaf386",
   "metadata": {},
   "outputs": [
    {
     "data": {
      "text/plain": [
       "18"
      ]
     },
     "execution_count": 2,
     "metadata": {},
     "output_type": "execute_result"
    }
   ],
   "source": [
    "import mayank as m\n",
    "m.sum1(23,5)"
   ]
  },
  {
   "cell_type": "code",
   "execution_count": 6,
   "id": "a5e843d2",
   "metadata": {},
   "outputs": [
    {
     "data": {
      "text/plain": [
       "'odd number'"
      ]
     },
     "execution_count": 6,
     "metadata": {},
     "output_type": "execute_result"
    }
   ],
   "source": [
    "#packages\n",
    "from Python_Today.Prime import check_num as d\n",
    "d.is_even(51)\n"
   ]
  },
  {
   "cell_type": "code",
   "execution_count": null,
   "id": "e53e795d",
   "metadata": {},
   "outputs": [],
   "source": [
    "# regex\n",
    "regular expression"
   ]
  },
  {
   "cell_type": "code",
   "execution_count": 7,
   "id": "2a6792d7",
   "metadata": {},
   "outputs": [],
   "source": [
    "import re\n",
    "v='term'\n",
    "txt=\"this is my first term and it will return me that my term found in it or not\"\n",
    "s=re.search(v,txt)"
   ]
  },
  {
   "cell_type": "code",
   "execution_count": 8,
   "id": "4ce861df",
   "metadata": {},
   "outputs": [
    {
     "name": "stdout",
     "output_type": "stream",
     "text": [
      "<re.Match object; span=(17, 21), match='term'>\n",
      "17\n",
      "21\n"
     ]
    }
   ],
   "source": [
    "print(s)\n",
    "print(s.start())\n",
    "print(s.end())"
   ]
  },
  {
   "cell_type": "code",
   "execution_count": 11,
   "id": "a361b2e2",
   "metadata": {},
   "outputs": [
    {
     "name": "stdout",
     "output_type": "stream",
     "text": [
      "['i', 'i']\n"
     ]
    }
   ],
   "source": [
    "text=\"this is a book\"\n",
    "s=re.findall(\"i\",text)\n",
    "print(s)"
   ]
  },
  {
   "cell_type": "code",
   "execution_count": 19,
   "id": "b8adea9b",
   "metadata": {},
   "outputs": [
    {
     "name": "stdout",
     "output_type": "stream",
     "text": [
      "no match\n"
     ]
    }
   ],
   "source": [
    "# ^ start with\n",
    "# $ end with\n",
    "import re\n",
    "v=\"pramod\"\n",
    "s=re.findall(\"^pramod\",v)\n",
    "if s:\n",
    "    print(\"yes, this word match\")\n",
    "else:\n",
    "    print(\"no match\")"
   ]
  },
  {
   "cell_type": "code",
   "execution_count": 17,
   "id": "62cdd27a",
   "metadata": {},
   "outputs": [
    {
     "name": "stdout",
     "output_type": "stream",
     "text": [
      "['pramod']\n"
     ]
    }
   ],
   "source": [
    "print(s)"
   ]
  },
  {
   "cell_type": "code",
   "execution_count": 24,
   "id": "97d18b36",
   "metadata": {},
   "outputs": [
    {
     "name": "stdout",
     "output_type": "stream",
     "text": [
      "['this', 'is', 'a book']\n"
     ]
    }
   ],
   "source": [
    "import re\n",
    "text=\"this is a book\"\n",
    "s=re.split(\"\\s\",text,2)\n",
    "print(s)"
   ]
  },
  {
   "cell_type": "code",
   "execution_count": 1,
   "id": "cf6afea6",
   "metadata": {},
   "outputs": [
    {
     "name": "stdout",
     "output_type": "stream",
     "text": [
      "Writing pro.txt\n"
     ]
    }
   ],
   "source": [
    "%%writefile pro.txt\n",
    "tommorow we will give test\n",
    "subject python"
   ]
  },
  {
   "cell_type": "code",
   "execution_count": 2,
   "id": "8215b86f",
   "metadata": {},
   "outputs": [],
   "source": [
    "a=open(\"pro.txt\")"
   ]
  },
  {
   "cell_type": "code",
   "execution_count": 3,
   "id": "fbcc61fb",
   "metadata": {},
   "outputs": [
    {
     "data": {
      "text/plain": [
       "'tommorow we will give test\\nsubject python\\n'"
      ]
     },
     "execution_count": 3,
     "metadata": {},
     "output_type": "execute_result"
    }
   ],
   "source": [
    "a.read()"
   ]
  },
  {
   "cell_type": "code",
   "execution_count": 4,
   "id": "2c8a4c09",
   "metadata": {},
   "outputs": [
    {
     "data": {
      "text/plain": [
       "''"
      ]
     },
     "execution_count": 4,
     "metadata": {},
     "output_type": "execute_result"
    }
   ],
   "source": [
    "a.read()"
   ]
  },
  {
   "cell_type": "code",
   "execution_count": 5,
   "id": "ad0fbeaf",
   "metadata": {},
   "outputs": [
    {
     "data": {
      "text/plain": [
       "0"
      ]
     },
     "execution_count": 5,
     "metadata": {},
     "output_type": "execute_result"
    }
   ],
   "source": [
    "a.seek(0)"
   ]
  },
  {
   "cell_type": "code",
   "execution_count": 6,
   "id": "ab50245a",
   "metadata": {},
   "outputs": [
    {
     "data": {
      "text/plain": [
       "'tommorow we will give test\\nsubject python\\n'"
      ]
     },
     "execution_count": 6,
     "metadata": {},
     "output_type": "execute_result"
    }
   ],
   "source": [
    "a.read()"
   ]
  },
  {
   "cell_type": "code",
   "execution_count": 7,
   "id": "c6ed89d9",
   "metadata": {},
   "outputs": [
    {
     "data": {
      "text/plain": [
       "[]"
      ]
     },
     "execution_count": 7,
     "metadata": {},
     "output_type": "execute_result"
    }
   ],
   "source": [
    "a.readlines()"
   ]
  },
  {
   "cell_type": "code",
   "execution_count": 8,
   "id": "1e71b0f1",
   "metadata": {},
   "outputs": [
    {
     "data": {
      "text/plain": [
       "0"
      ]
     },
     "execution_count": 8,
     "metadata": {},
     "output_type": "execute_result"
    }
   ],
   "source": [
    "a.seek(0)"
   ]
  },
  {
   "cell_type": "code",
   "execution_count": 9,
   "id": "3e571ee1",
   "metadata": {},
   "outputs": [
    {
     "data": {
      "text/plain": [
       "['tommorow we will give test\\n', 'subject python\\n']"
      ]
     },
     "execution_count": 9,
     "metadata": {},
     "output_type": "execute_result"
    }
   ],
   "source": [
    "a.readlines()"
   ]
  },
  {
   "cell_type": "code",
   "execution_count": 10,
   "id": "c6b1e2bf",
   "metadata": {},
   "outputs": [],
   "source": [
    "s=open('fir.txt')"
   ]
  },
  {
   "cell_type": "code",
   "execution_count": 11,
   "id": "4e6f26ca",
   "metadata": {},
   "outputs": [
    {
     "data": {
      "text/plain": [
       "'this is a first file\\nthis is a seccond file\\n'"
      ]
     },
     "execution_count": 11,
     "metadata": {},
     "output_type": "execute_result"
    }
   ],
   "source": [
    "s.read()"
   ]
  },
  {
   "cell_type": "code",
   "execution_count": null,
   "id": "1acbe8a3",
   "metadata": {},
   "outputs": [],
   "source": []
  },
  {
   "cell_type": "code",
   "execution_count": 12,
   "id": "2d2e9546",
   "metadata": {},
   "outputs": [],
   "source": [
    "s=open('C:\\\\Users\\\\vrajp\\\\fir.txt')"
   ]
  },
  {
   "cell_type": "code",
   "execution_count": 13,
   "id": "c9cb122f",
   "metadata": {},
   "outputs": [
    {
     "data": {
      "text/plain": [
       "'this is a first file\\nthis is a seccond file\\n'"
      ]
     },
     "execution_count": 13,
     "metadata": {},
     "output_type": "execute_result"
    }
   ],
   "source": [
    "s.read()"
   ]
  },
  {
   "cell_type": "code",
   "execution_count": 14,
   "id": "12ce6ae9",
   "metadata": {},
   "outputs": [],
   "source": [
    "s.close()"
   ]
  },
  {
   "cell_type": "code",
   "execution_count": 15,
   "id": "c412dcd8",
   "metadata": {},
   "outputs": [
    {
     "ename": "ValueError",
     "evalue": "I/O operation on closed file.",
     "output_type": "error",
     "traceback": [
      "\u001b[1;31m---------------------------------------------------------------------------\u001b[0m",
      "\u001b[1;31mValueError\u001b[0m                                Traceback (most recent call last)",
      "Input \u001b[1;32mIn [15]\u001b[0m, in \u001b[0;36m<cell line: 1>\u001b[1;34m()\u001b[0m\n\u001b[1;32m----> 1\u001b[0m \u001b[43ms\u001b[49m\u001b[38;5;241;43m.\u001b[39;49m\u001b[43mread\u001b[49m\u001b[43m(\u001b[49m\u001b[43m)\u001b[49m\n",
      "\u001b[1;31mValueError\u001b[0m: I/O operation on closed file."
     ]
    }
   ],
   "source": [
    "s.read()"
   ]
  },
  {
   "cell_type": "code",
   "execution_count": 16,
   "id": "7f1ca151",
   "metadata": {},
   "outputs": [],
   "source": [
    "a=open(\"fir.txt\",'a+')"
   ]
  },
  {
   "cell_type": "code",
   "execution_count": 17,
   "id": "f78c745e",
   "metadata": {},
   "outputs": [
    {
     "data": {
      "text/plain": [
       "45"
      ]
     },
     "execution_count": 17,
     "metadata": {},
     "output_type": "execute_result"
    }
   ],
   "source": [
    "a.write(\"\\n this is a third file\\n this is a fourth file\")"
   ]
  },
  {
   "cell_type": "code",
   "execution_count": 18,
   "id": "f8e202d4",
   "metadata": {},
   "outputs": [
    {
     "data": {
      "text/plain": [
       "0"
      ]
     },
     "execution_count": 18,
     "metadata": {},
     "output_type": "execute_result"
    }
   ],
   "source": [
    "a.seek(0)"
   ]
  },
  {
   "cell_type": "code",
   "execution_count": 19,
   "id": "ab914c24",
   "metadata": {},
   "outputs": [
    {
     "data": {
      "text/plain": [
       "'this is a first file\\nthis is a seccond file\\n\\n this is a third file\\n this is a fourth file'"
      ]
     },
     "execution_count": 19,
     "metadata": {},
     "output_type": "execute_result"
    }
   ],
   "source": [
    "a.read()"
   ]
  },
  {
   "cell_type": "code",
   "execution_count": 21,
   "id": "bdf6f3df",
   "metadata": {},
   "outputs": [
    {
     "name": "stdout",
     "output_type": "stream",
     "text": [
      "<class 'list'>\n",
      "<class 'tuple'>\n"
     ]
    }
   ],
   "source": [
    "l=[1,2,'f']\n",
    "print(type(l))\n",
    "r=tuple(l)\n",
    "print(type(r))"
   ]
  },
  {
   "cell_type": "code",
   "execution_count": 1,
   "id": "81309792",
   "metadata": {},
   "outputs": [
    {
     "name": "stderr",
     "output_type": "stream",
     "text": [
      "C:\\Users\\vrajp\\anaconda3\\lib\\site-packages\\pandas\\core\\computation\\expressions.py:21: UserWarning: Pandas requires version '2.8.4' or newer of 'numexpr' (version '2.8.1' currently installed).\n",
      "  from pandas.core.computation.check import NUMEXPR_INSTALLED\n",
      "C:\\Users\\vrajp\\anaconda3\\lib\\site-packages\\pandas\\core\\arrays\\masked.py:60: UserWarning: Pandas requires version '1.3.6' or newer of 'bottleneck' (version '1.3.4' currently installed).\n",
      "  from pandas.core import (\n",
      "C:\\Users\\vrajp\\AppData\\Local\\Temp\\ipykernel_4728\\2110507148.py:1: DeprecationWarning: \n",
      "Pyarrow will become a required dependency of pandas in the next major release of pandas (pandas 3.0),\n",
      "(to allow more performant data types, such as the Arrow string type, and better interoperability with other libraries)\n",
      "but was not found to be installed on your system.\n",
      "If this would cause problems for you,\n",
      "please provide us feedback at https://github.com/pandas-dev/pandas/issues/54466\n",
      "        \n",
      "  import pandas as pd\n"
     ]
    }
   ],
   "source": [
    "import pandas as pd \n",
    "df = pd.read_csv(\"C:\\\\Users\\\\vrajp\\\\Downloads\\\\archive (2)\\\\Ecommerce Purchases\")"
   ]
  },
  {
   "cell_type": "code",
   "execution_count": 2,
   "id": "6b4dfadb",
   "metadata": {},
   "outputs": [
    {
     "data": {
      "text/html": [
       "<div>\n",
       "<style scoped>\n",
       "    .dataframe tbody tr th:only-of-type {\n",
       "        vertical-align: middle;\n",
       "    }\n",
       "\n",
       "    .dataframe tbody tr th {\n",
       "        vertical-align: top;\n",
       "    }\n",
       "\n",
       "    .dataframe thead th {\n",
       "        text-align: right;\n",
       "    }\n",
       "</style>\n",
       "<table border=\"1\" class=\"dataframe\">\n",
       "  <thead>\n",
       "    <tr style=\"text-align: right;\">\n",
       "      <th></th>\n",
       "      <th>Address</th>\n",
       "      <th>Lot</th>\n",
       "      <th>AM or PM</th>\n",
       "      <th>Browser Info</th>\n",
       "      <th>Company</th>\n",
       "      <th>Credit Card</th>\n",
       "      <th>CC Exp Date</th>\n",
       "      <th>CC Security Code</th>\n",
       "      <th>CC Provider</th>\n",
       "      <th>Email</th>\n",
       "      <th>Job</th>\n",
       "      <th>IP Address</th>\n",
       "      <th>Language</th>\n",
       "      <th>Purchase Price</th>\n",
       "    </tr>\n",
       "  </thead>\n",
       "  <tbody>\n",
       "    <tr>\n",
       "      <th>0</th>\n",
       "      <td>16629 Pace Camp Apt. 448\\nAlexisborough, NE 77...</td>\n",
       "      <td>46 in</td>\n",
       "      <td>PM</td>\n",
       "      <td>Opera/9.56.(X11; Linux x86_64; sl-SI) Presto/2...</td>\n",
       "      <td>Martinez-Herman</td>\n",
       "      <td>6011929061123406</td>\n",
       "      <td>02/20</td>\n",
       "      <td>900</td>\n",
       "      <td>JCB 16 digit</td>\n",
       "      <td>pdunlap@yahoo.com</td>\n",
       "      <td>Scientist, product/process development</td>\n",
       "      <td>149.146.147.205</td>\n",
       "      <td>el</td>\n",
       "      <td>98.14</td>\n",
       "    </tr>\n",
       "    <tr>\n",
       "      <th>1</th>\n",
       "      <td>9374 Jasmine Spurs Suite 508\\nSouth John, TN 8...</td>\n",
       "      <td>28 rn</td>\n",
       "      <td>PM</td>\n",
       "      <td>Opera/8.93.(Windows 98; Win 9x 4.90; en-US) Pr...</td>\n",
       "      <td>Fletcher, Richards and Whitaker</td>\n",
       "      <td>3337758169645356</td>\n",
       "      <td>11/18</td>\n",
       "      <td>561</td>\n",
       "      <td>Mastercard</td>\n",
       "      <td>anthony41@reed.com</td>\n",
       "      <td>Drilling engineer</td>\n",
       "      <td>15.160.41.51</td>\n",
       "      <td>fr</td>\n",
       "      <td>70.73</td>\n",
       "    </tr>\n",
       "    <tr>\n",
       "      <th>2</th>\n",
       "      <td>Unit 0065 Box 5052\\nDPO AP 27450</td>\n",
       "      <td>94 vE</td>\n",
       "      <td>PM</td>\n",
       "      <td>Mozilla/5.0 (compatible; MSIE 9.0; Windows NT ...</td>\n",
       "      <td>Simpson, Williams and Pham</td>\n",
       "      <td>675957666125</td>\n",
       "      <td>08/19</td>\n",
       "      <td>699</td>\n",
       "      <td>JCB 16 digit</td>\n",
       "      <td>amymiller@morales-harrison.com</td>\n",
       "      <td>Customer service manager</td>\n",
       "      <td>132.207.160.22</td>\n",
       "      <td>de</td>\n",
       "      <td>0.95</td>\n",
       "    </tr>\n",
       "    <tr>\n",
       "      <th>3</th>\n",
       "      <td>7780 Julia Fords\\nNew Stacy, WA 45798</td>\n",
       "      <td>36 vm</td>\n",
       "      <td>PM</td>\n",
       "      <td>Mozilla/5.0 (Macintosh; Intel Mac OS X 10_8_0 ...</td>\n",
       "      <td>Williams, Marshall and Buchanan</td>\n",
       "      <td>6011578504430710</td>\n",
       "      <td>02/24</td>\n",
       "      <td>384</td>\n",
       "      <td>Discover</td>\n",
       "      <td>brent16@olson-robinson.info</td>\n",
       "      <td>Drilling engineer</td>\n",
       "      <td>30.250.74.19</td>\n",
       "      <td>es</td>\n",
       "      <td>78.04</td>\n",
       "    </tr>\n",
       "    <tr>\n",
       "      <th>4</th>\n",
       "      <td>23012 Munoz Drive Suite 337\\nNew Cynthia, TX 5...</td>\n",
       "      <td>20 IE</td>\n",
       "      <td>AM</td>\n",
       "      <td>Opera/9.58.(X11; Linux x86_64; it-IT) Presto/2...</td>\n",
       "      <td>Brown, Watson and Andrews</td>\n",
       "      <td>6011456623207998</td>\n",
       "      <td>10/25</td>\n",
       "      <td>678</td>\n",
       "      <td>Diners Club / Carte Blanche</td>\n",
       "      <td>christopherwright@gmail.com</td>\n",
       "      <td>Fine artist</td>\n",
       "      <td>24.140.33.94</td>\n",
       "      <td>es</td>\n",
       "      <td>77.82</td>\n",
       "    </tr>\n",
       "    <tr>\n",
       "      <th>...</th>\n",
       "      <td>...</td>\n",
       "      <td>...</td>\n",
       "      <td>...</td>\n",
       "      <td>...</td>\n",
       "      <td>...</td>\n",
       "      <td>...</td>\n",
       "      <td>...</td>\n",
       "      <td>...</td>\n",
       "      <td>...</td>\n",
       "      <td>...</td>\n",
       "      <td>...</td>\n",
       "      <td>...</td>\n",
       "      <td>...</td>\n",
       "      <td>...</td>\n",
       "    </tr>\n",
       "    <tr>\n",
       "      <th>9995</th>\n",
       "      <td>966 Castaneda Locks\\nWest Juliafurt, CO 96415</td>\n",
       "      <td>92 XI</td>\n",
       "      <td>PM</td>\n",
       "      <td>Mozilla/5.0 (Windows NT 5.1) AppleWebKit/5352 ...</td>\n",
       "      <td>Randall-Sloan</td>\n",
       "      <td>342945015358701</td>\n",
       "      <td>03/22</td>\n",
       "      <td>838</td>\n",
       "      <td>JCB 15 digit</td>\n",
       "      <td>iscott@wade-garner.com</td>\n",
       "      <td>Printmaker</td>\n",
       "      <td>29.73.197.114</td>\n",
       "      <td>it</td>\n",
       "      <td>82.21</td>\n",
       "    </tr>\n",
       "    <tr>\n",
       "      <th>9996</th>\n",
       "      <td>832 Curtis Dam Suite 785\\nNorth Edwardburgh, T...</td>\n",
       "      <td>41 JY</td>\n",
       "      <td>AM</td>\n",
       "      <td>Mozilla/5.0 (compatible; MSIE 9.0; Windows NT ...</td>\n",
       "      <td>Hale, Collins and Wilson</td>\n",
       "      <td>210033169205009</td>\n",
       "      <td>07/25</td>\n",
       "      <td>207</td>\n",
       "      <td>JCB 16 digit</td>\n",
       "      <td>mary85@hotmail.com</td>\n",
       "      <td>Energy engineer</td>\n",
       "      <td>121.133.168.51</td>\n",
       "      <td>pt</td>\n",
       "      <td>25.63</td>\n",
       "    </tr>\n",
       "    <tr>\n",
       "      <th>9997</th>\n",
       "      <td>Unit 4434 Box 6343\\nDPO AE 28026-0283</td>\n",
       "      <td>74 Zh</td>\n",
       "      <td>AM</td>\n",
       "      <td>Mozilla/5.0 (Macintosh; U; Intel Mac OS X 10_7...</td>\n",
       "      <td>Anderson Ltd</td>\n",
       "      <td>6011539787356311</td>\n",
       "      <td>05/21</td>\n",
       "      <td>1</td>\n",
       "      <td>VISA 16 digit</td>\n",
       "      <td>tyler16@gmail.com</td>\n",
       "      <td>Veterinary surgeon</td>\n",
       "      <td>156.210.0.254</td>\n",
       "      <td>el</td>\n",
       "      <td>83.98</td>\n",
       "    </tr>\n",
       "    <tr>\n",
       "      <th>9998</th>\n",
       "      <td>0096 English Rest\\nRoystad, IA 12457</td>\n",
       "      <td>74 cL</td>\n",
       "      <td>PM</td>\n",
       "      <td>Mozilla/5.0 (Macintosh; Intel Mac OS X 10_8_8;...</td>\n",
       "      <td>Cook Inc</td>\n",
       "      <td>180003348082930</td>\n",
       "      <td>11/17</td>\n",
       "      <td>987</td>\n",
       "      <td>American Express</td>\n",
       "      <td>elizabethmoore@reid.net</td>\n",
       "      <td>Local government officer</td>\n",
       "      <td>55.78.26.143</td>\n",
       "      <td>es</td>\n",
       "      <td>38.84</td>\n",
       "    </tr>\n",
       "    <tr>\n",
       "      <th>9999</th>\n",
       "      <td>40674 Barrett Stravenue\\nGrimesville, WI 79682</td>\n",
       "      <td>64 Hr</td>\n",
       "      <td>AM</td>\n",
       "      <td>Mozilla/5.0 (X11; Linux i686; rv:1.9.5.20) Gec...</td>\n",
       "      <td>Greene Inc</td>\n",
       "      <td>4139972901927273</td>\n",
       "      <td>02/19</td>\n",
       "      <td>302</td>\n",
       "      <td>JCB 15 digit</td>\n",
       "      <td>rachelford@vaughn.com</td>\n",
       "      <td>Embryologist, clinical</td>\n",
       "      <td>176.119.198.199</td>\n",
       "      <td>el</td>\n",
       "      <td>67.59</td>\n",
       "    </tr>\n",
       "  </tbody>\n",
       "</table>\n",
       "<p>10000 rows × 14 columns</p>\n",
       "</div>"
      ],
      "text/plain": [
       "                                                Address    Lot AM or PM  \\\n",
       "0     16629 Pace Camp Apt. 448\\nAlexisborough, NE 77...  46 in       PM   \n",
       "1     9374 Jasmine Spurs Suite 508\\nSouth John, TN 8...  28 rn       PM   \n",
       "2                      Unit 0065 Box 5052\\nDPO AP 27450  94 vE       PM   \n",
       "3                 7780 Julia Fords\\nNew Stacy, WA 45798  36 vm       PM   \n",
       "4     23012 Munoz Drive Suite 337\\nNew Cynthia, TX 5...  20 IE       AM   \n",
       "...                                                 ...    ...      ...   \n",
       "9995      966 Castaneda Locks\\nWest Juliafurt, CO 96415  92 XI       PM   \n",
       "9996  832 Curtis Dam Suite 785\\nNorth Edwardburgh, T...  41 JY       AM   \n",
       "9997              Unit 4434 Box 6343\\nDPO AE 28026-0283  74 Zh       AM   \n",
       "9998               0096 English Rest\\nRoystad, IA 12457  74 cL       PM   \n",
       "9999     40674 Barrett Stravenue\\nGrimesville, WI 79682  64 Hr       AM   \n",
       "\n",
       "                                           Browser Info  \\\n",
       "0     Opera/9.56.(X11; Linux x86_64; sl-SI) Presto/2...   \n",
       "1     Opera/8.93.(Windows 98; Win 9x 4.90; en-US) Pr...   \n",
       "2     Mozilla/5.0 (compatible; MSIE 9.0; Windows NT ...   \n",
       "3     Mozilla/5.0 (Macintosh; Intel Mac OS X 10_8_0 ...   \n",
       "4     Opera/9.58.(X11; Linux x86_64; it-IT) Presto/2...   \n",
       "...                                                 ...   \n",
       "9995  Mozilla/5.0 (Windows NT 5.1) AppleWebKit/5352 ...   \n",
       "9996  Mozilla/5.0 (compatible; MSIE 9.0; Windows NT ...   \n",
       "9997  Mozilla/5.0 (Macintosh; U; Intel Mac OS X 10_7...   \n",
       "9998  Mozilla/5.0 (Macintosh; Intel Mac OS X 10_8_8;...   \n",
       "9999  Mozilla/5.0 (X11; Linux i686; rv:1.9.5.20) Gec...   \n",
       "\n",
       "                              Company       Credit Card CC Exp Date  \\\n",
       "0                     Martinez-Herman  6011929061123406       02/20   \n",
       "1     Fletcher, Richards and Whitaker  3337758169645356       11/18   \n",
       "2          Simpson, Williams and Pham      675957666125       08/19   \n",
       "3     Williams, Marshall and Buchanan  6011578504430710       02/24   \n",
       "4           Brown, Watson and Andrews  6011456623207998       10/25   \n",
       "...                               ...               ...         ...   \n",
       "9995                    Randall-Sloan   342945015358701       03/22   \n",
       "9996         Hale, Collins and Wilson   210033169205009       07/25   \n",
       "9997                     Anderson Ltd  6011539787356311       05/21   \n",
       "9998                         Cook Inc   180003348082930       11/17   \n",
       "9999                       Greene Inc  4139972901927273       02/19   \n",
       "\n",
       "      CC Security Code                  CC Provider  \\\n",
       "0                  900                 JCB 16 digit   \n",
       "1                  561                   Mastercard   \n",
       "2                  699                 JCB 16 digit   \n",
       "3                  384                     Discover   \n",
       "4                  678  Diners Club / Carte Blanche   \n",
       "...                ...                          ...   \n",
       "9995               838                 JCB 15 digit   \n",
       "9996               207                 JCB 16 digit   \n",
       "9997                 1                VISA 16 digit   \n",
       "9998               987             American Express   \n",
       "9999               302                 JCB 15 digit   \n",
       "\n",
       "                               Email                                     Job  \\\n",
       "0                  pdunlap@yahoo.com  Scientist, product/process development   \n",
       "1                 anthony41@reed.com                       Drilling engineer   \n",
       "2     amymiller@morales-harrison.com                Customer service manager   \n",
       "3        brent16@olson-robinson.info                       Drilling engineer   \n",
       "4        christopherwright@gmail.com                             Fine artist   \n",
       "...                              ...                                     ...   \n",
       "9995          iscott@wade-garner.com                              Printmaker   \n",
       "9996              mary85@hotmail.com                         Energy engineer   \n",
       "9997               tyler16@gmail.com                      Veterinary surgeon   \n",
       "9998         elizabethmoore@reid.net                Local government officer   \n",
       "9999           rachelford@vaughn.com                  Embryologist, clinical   \n",
       "\n",
       "           IP Address Language  Purchase Price  \n",
       "0     149.146.147.205       el           98.14  \n",
       "1        15.160.41.51       fr           70.73  \n",
       "2      132.207.160.22       de            0.95  \n",
       "3        30.250.74.19       es           78.04  \n",
       "4        24.140.33.94       es           77.82  \n",
       "...               ...      ...             ...  \n",
       "9995    29.73.197.114       it           82.21  \n",
       "9996   121.133.168.51       pt           25.63  \n",
       "9997    156.210.0.254       el           83.98  \n",
       "9998     55.78.26.143       es           38.84  \n",
       "9999  176.119.198.199       el           67.59  \n",
       "\n",
       "[10000 rows x 14 columns]"
      ]
     },
     "execution_count": 2,
     "metadata": {},
     "output_type": "execute_result"
    }
   ],
   "source": [
    "df"
   ]
  },
  {
   "cell_type": "code",
   "execution_count": null,
   "id": "3eaebfa0",
   "metadata": {},
   "outputs": [],
   "source": []
  }
 ],
 "metadata": {
  "kernelspec": {
   "display_name": "Python 3 (ipykernel)",
   "language": "python",
   "name": "python3"
  },
  "language_info": {
   "codemirror_mode": {
    "name": "ipython",
    "version": 3
   },
   "file_extension": ".py",
   "mimetype": "text/x-python",
   "name": "python",
   "nbconvert_exporter": "python",
   "pygments_lexer": "ipython3",
   "version": "3.9.12"
  }
 },
 "nbformat": 4,
 "nbformat_minor": 5
}
